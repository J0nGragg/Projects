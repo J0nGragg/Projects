{
 "cells": [
  {
   "cell_type": "markdown",
   "source": [
    "# Statistical Learning Week 7 - Deep Neural Networks\r\n",
    "\r\n",
    "### Jonathan Gragg: East Section"
   ],
   "metadata": {}
  },
  {
   "cell_type": "code",
   "execution_count": 73,
   "source": [
    "#loading in relevant packages\r\n",
    "import pandas as pd\r\n",
    "import numpy as np\r\n",
    "import matplotlib as mpl\r\n",
    "import matplotlib.pyplot as plt\r\n",
    "from sklearn.metrics import accuracy_score, mean_squared_error\r\n",
    "from sklearn.model_selection import train_test_split\r\n",
    "from sklearn.linear_model import LinearRegression, LogisticRegression, LogisticRegressionCV, Lasso, Ridge\r\n",
    "from sklearn.preprocessing import StandardScaler\r\n",
    "\r\n",
    "# TensorFlow / Keras functions\r\n",
    "from tensorflow import keras\r\n",
    "from tensorflow.keras import Sequential\r\n",
    "from tensorflow.keras.layers import Dense, Dropout\r\n",
    "from tensorflow.keras.callbacks import EarlyStopping"
   ],
   "outputs": [],
   "metadata": {}
  },
  {
   "cell_type": "markdown",
   "source": [
    "## 1. Load the Ames Housing dataset. Create dummy variables for all of the categorical features. Print the first few rows of this dataset. (5 pts)"
   ],
   "metadata": {}
  },
  {
   "cell_type": "code",
   "execution_count": 74,
   "source": [
    "ames = pd.read_csv('ames.csv')\r\n",
    "df = pd.get_dummies(ames, drop_first=True)\r\n",
    "df.head()"
   ],
   "outputs": [
    {
     "output_type": "execute_result",
     "data": {
      "text/html": [
       "<div>\n",
       "<style scoped>\n",
       "    .dataframe tbody tr th:only-of-type {\n",
       "        vertical-align: middle;\n",
       "    }\n",
       "\n",
       "    .dataframe tbody tr th {\n",
       "        vertical-align: top;\n",
       "    }\n",
       "\n",
       "    .dataframe thead th {\n",
       "        text-align: right;\n",
       "    }\n",
       "</style>\n",
       "<table border=\"1\" class=\"dataframe\">\n",
       "  <thead>\n",
       "    <tr style=\"text-align: right;\">\n",
       "      <th></th>\n",
       "      <th>Lot_Frontage</th>\n",
       "      <th>Lot_Area</th>\n",
       "      <th>Year_Built</th>\n",
       "      <th>Year_Remod_Add</th>\n",
       "      <th>Mas_Vnr_Area</th>\n",
       "      <th>BsmtFin_SF_1</th>\n",
       "      <th>BsmtFin_SF_2</th>\n",
       "      <th>Bsmt_Unf_SF</th>\n",
       "      <th>Total_Bsmt_SF</th>\n",
       "      <th>First_Flr_SF</th>\n",
       "      <th>...</th>\n",
       "      <th>Sale_Type_ConLw</th>\n",
       "      <th>Sale_Type_New</th>\n",
       "      <th>Sale_Type_Oth</th>\n",
       "      <th>Sale_Type_VWD</th>\n",
       "      <th>Sale_Type_WD</th>\n",
       "      <th>Sale_Condition_AdjLand</th>\n",
       "      <th>Sale_Condition_Alloca</th>\n",
       "      <th>Sale_Condition_Family</th>\n",
       "      <th>Sale_Condition_Normal</th>\n",
       "      <th>Sale_Condition_Partial</th>\n",
       "    </tr>\n",
       "  </thead>\n",
       "  <tbody>\n",
       "    <tr>\n",
       "      <th>0</th>\n",
       "      <td>141</td>\n",
       "      <td>31770</td>\n",
       "      <td>1960</td>\n",
       "      <td>1960</td>\n",
       "      <td>112</td>\n",
       "      <td>2</td>\n",
       "      <td>0</td>\n",
       "      <td>441</td>\n",
       "      <td>1080</td>\n",
       "      <td>1656</td>\n",
       "      <td>...</td>\n",
       "      <td>0</td>\n",
       "      <td>0</td>\n",
       "      <td>0</td>\n",
       "      <td>0</td>\n",
       "      <td>1</td>\n",
       "      <td>0</td>\n",
       "      <td>0</td>\n",
       "      <td>0</td>\n",
       "      <td>1</td>\n",
       "      <td>0</td>\n",
       "    </tr>\n",
       "    <tr>\n",
       "      <th>1</th>\n",
       "      <td>80</td>\n",
       "      <td>11622</td>\n",
       "      <td>1961</td>\n",
       "      <td>1961</td>\n",
       "      <td>0</td>\n",
       "      <td>6</td>\n",
       "      <td>144</td>\n",
       "      <td>270</td>\n",
       "      <td>882</td>\n",
       "      <td>896</td>\n",
       "      <td>...</td>\n",
       "      <td>0</td>\n",
       "      <td>0</td>\n",
       "      <td>0</td>\n",
       "      <td>0</td>\n",
       "      <td>1</td>\n",
       "      <td>0</td>\n",
       "      <td>0</td>\n",
       "      <td>0</td>\n",
       "      <td>1</td>\n",
       "      <td>0</td>\n",
       "    </tr>\n",
       "    <tr>\n",
       "      <th>2</th>\n",
       "      <td>81</td>\n",
       "      <td>14267</td>\n",
       "      <td>1958</td>\n",
       "      <td>1958</td>\n",
       "      <td>108</td>\n",
       "      <td>1</td>\n",
       "      <td>0</td>\n",
       "      <td>406</td>\n",
       "      <td>1329</td>\n",
       "      <td>1329</td>\n",
       "      <td>...</td>\n",
       "      <td>0</td>\n",
       "      <td>0</td>\n",
       "      <td>0</td>\n",
       "      <td>0</td>\n",
       "      <td>1</td>\n",
       "      <td>0</td>\n",
       "      <td>0</td>\n",
       "      <td>0</td>\n",
       "      <td>1</td>\n",
       "      <td>0</td>\n",
       "    </tr>\n",
       "    <tr>\n",
       "      <th>3</th>\n",
       "      <td>93</td>\n",
       "      <td>11160</td>\n",
       "      <td>1968</td>\n",
       "      <td>1968</td>\n",
       "      <td>0</td>\n",
       "      <td>1</td>\n",
       "      <td>0</td>\n",
       "      <td>1045</td>\n",
       "      <td>2110</td>\n",
       "      <td>2110</td>\n",
       "      <td>...</td>\n",
       "      <td>0</td>\n",
       "      <td>0</td>\n",
       "      <td>0</td>\n",
       "      <td>0</td>\n",
       "      <td>1</td>\n",
       "      <td>0</td>\n",
       "      <td>0</td>\n",
       "      <td>0</td>\n",
       "      <td>1</td>\n",
       "      <td>0</td>\n",
       "    </tr>\n",
       "    <tr>\n",
       "      <th>4</th>\n",
       "      <td>74</td>\n",
       "      <td>13830</td>\n",
       "      <td>1997</td>\n",
       "      <td>1998</td>\n",
       "      <td>0</td>\n",
       "      <td>3</td>\n",
       "      <td>0</td>\n",
       "      <td>137</td>\n",
       "      <td>928</td>\n",
       "      <td>928</td>\n",
       "      <td>...</td>\n",
       "      <td>0</td>\n",
       "      <td>0</td>\n",
       "      <td>0</td>\n",
       "      <td>0</td>\n",
       "      <td>1</td>\n",
       "      <td>0</td>\n",
       "      <td>0</td>\n",
       "      <td>0</td>\n",
       "      <td>1</td>\n",
       "      <td>0</td>\n",
       "    </tr>\n",
       "  </tbody>\n",
       "</table>\n",
       "<p>5 rows × 307 columns</p>\n",
       "</div>"
      ],
      "text/plain": [
       "   Lot_Frontage  Lot_Area  Year_Built  Year_Remod_Add  Mas_Vnr_Area  \\\n",
       "0           141     31770        1960            1960           112   \n",
       "1            80     11622        1961            1961             0   \n",
       "2            81     14267        1958            1958           108   \n",
       "3            93     11160        1968            1968             0   \n",
       "4            74     13830        1997            1998             0   \n",
       "\n",
       "   BsmtFin_SF_1  BsmtFin_SF_2  Bsmt_Unf_SF  Total_Bsmt_SF  First_Flr_SF  ...  \\\n",
       "0             2             0          441           1080          1656  ...   \n",
       "1             6           144          270            882           896  ...   \n",
       "2             1             0          406           1329          1329  ...   \n",
       "3             1             0         1045           2110          2110  ...   \n",
       "4             3             0          137            928           928  ...   \n",
       "\n",
       "   Sale_Type_ConLw  Sale_Type_New  Sale_Type_Oth  Sale_Type_VWD  \\\n",
       "0                0              0              0              0   \n",
       "1                0              0              0              0   \n",
       "2                0              0              0              0   \n",
       "3                0              0              0              0   \n",
       "4                0              0              0              0   \n",
       "\n",
       "   Sale_Type_WD   Sale_Condition_AdjLand  Sale_Condition_Alloca  \\\n",
       "0              1                       0                      0   \n",
       "1              1                       0                      0   \n",
       "2              1                       0                      0   \n",
       "3              1                       0                      0   \n",
       "4              1                       0                      0   \n",
       "\n",
       "   Sale_Condition_Family  Sale_Condition_Normal  Sale_Condition_Partial  \n",
       "0                      0                      1                       0  \n",
       "1                      0                      1                       0  \n",
       "2                      0                      1                       0  \n",
       "3                      0                      1                       0  \n",
       "4                      0                      1                       0  \n",
       "\n",
       "[5 rows x 307 columns]"
      ]
     },
     "metadata": {},
     "execution_count": 74
    }
   ],
   "metadata": {}
  },
  {
   "cell_type": "markdown",
   "source": [
    "## 2. Use \"Sale_Price\" to create a column vector of responses (y). Create a feature matrix (X) using all of the other variables. (5 pts)"
   ],
   "metadata": {}
  },
  {
   "cell_type": "code",
   "execution_count": 75,
   "source": [
    "y = df['Sale_Price'].values\r\n",
    "X = df.drop('Sale_Price',axis=1).values"
   ],
   "outputs": [],
   "metadata": {}
  },
  {
   "cell_type": "markdown",
   "source": [
    "## 3. Split the data into training, validation, and testing sets using a 60/20/20 split. Print the dimensions of each of the feature matrices. (5 pts)"
   ],
   "metadata": {}
  },
  {
   "cell_type": "code",
   "execution_count": 76,
   "source": [
    "X_train, X_test, y_train, y_test = train_test_split(X, y, test_size=.2,random_state=1)\r\n",
    "X_train, X_valid, y_train, y_valid = train_test_split(X_train, y_train, test_size=.25, random_state=2019)\r\n",
    "print(\"X_train\",\"X_valid\",\"X_test\",\"y_train\",\"y_valid\",\"y_test\")\r\n",
    "print(X_train.shape, X_valid.shape, X_test.shape, y_train.shape, y_valid.shape, y_test.shape)"
   ],
   "outputs": [
    {
     "output_type": "stream",
     "name": "stdout",
     "text": [
      "X_train X_valid X_test y_train y_valid y_test\n",
      "(1758, 306) (586, 306) (586, 306) (1758,) (586,) (586,)\n"
     ]
    }
   ],
   "metadata": {}
  },
  {
   "cell_type": "markdown",
   "source": [
    "## 4. Standardize both the features and responses from the training set. Apply the appropriate transformation to the validation and test sets. (10 pts)"
   ],
   "metadata": {}
  },
  {
   "cell_type": "code",
   "execution_count": 77,
   "source": [
    "scaler = StandardScaler()\r\n",
    "\r\n",
    "#training data set\r\n",
    "scaler.fit(X_train)\r\n",
    "X_train = scaler.transform(X_train)\r\n",
    "scaler.fit(y_train.reshape(-1,1))\r\n",
    "y_train = scaler.transform(y_train.reshape(-1,1))\r\n",
    "\r\n",
    "#validation data set\r\n",
    "scaler.fit(X_valid)\r\n",
    "X_valid = scaler.transform(X_valid)\r\n",
    "scaler.fit(y_valid.reshape(-1,1))\r\n",
    "y_valid = scaler.transform(y_valid.reshape(-1,1))\r\n",
    "\r\n",
    "#testing data set\r\n",
    "scaler.fit(X_test)\r\n",
    "X_test = scaler.transform(X_test)\r\n",
    "scaler.fit(y_test.reshape(-1,1))\r\n",
    "y_test = scaler.transform(y_test.reshape(-1,1))"
   ],
   "outputs": [],
   "metadata": {}
  },
  {
   "cell_type": "markdown",
   "source": [
    "## 5. Before we fit a neural network, we'll first try a simpler model using the Lasso. Fit a Lasso regression model to the training set using alpha=.05 as the tuning parameter. This should be a good choice assuming the data has been standardized. Calculate the mean squared error (MSE) on the training, validation, and test sets. (10 pts)"
   ],
   "metadata": {}
  },
  {
   "cell_type": "code",
   "execution_count": 78,
   "source": [
    "ls = Lasso(alpha=0.5)\r\n",
    "ls.fit(X_train,y_train)\r\n",
    "preds_tr = ls.predict(X_train)\r\n",
    "print(\"Training MSE:\",mean_squared_error(y_train,preds_tr))\r\n",
    "preds_v = ls.predict(X_valid)\r\n",
    "print(\"Validation MSE:\",mean_squared_error(y_valid,preds_v))\r\n",
    "preds_te = ls.predict(X_test)\r\n",
    "print(\"Testing MSE:\",mean_squared_error(y_test,preds_te))"
   ],
   "outputs": [
    {
     "output_type": "stream",
     "name": "stdout",
     "text": [
      "Training MSE: 0.7181094358737364\n",
      "Validation MSE: 0.7174834930146333\n",
      "Testing MSE: 0.694076354802436\n"
     ]
    }
   ],
   "metadata": {}
  },
  {
   "cell_type": "markdown",
   "source": [
    "## 6. Fit a neural network using the following architecture, and print the output from training. (15 pts)\r\n",
    "* Use 2 hidden layers with 50 neurons each;\r\n",
    "* Use ReLU activation functions for the hidden layers;\r\n",
    "* Use a linear activation function for the output layer;\r\n",
    "* Use MSE for the loss function;\r\n",
    "* Use the Adam optimizer;\r\n",
    "* Use 100 epochs;\r\n",
    "* Use a batch size of 100."
   ],
   "metadata": {}
  },
  {
   "cell_type": "code",
   "execution_count": 79,
   "source": [
    "model = Sequential()\r\n",
    "model.add(Dense(50, activation='relu', input_shape=(X_train.shape[1], )))\r\n",
    "model.add(Dense(50, activation='relu'))\r\n",
    "model.add(Dense(1, activation='linear'))\r\n",
    "\r\n",
    "model.compile(optimizer='adam',\r\n",
    "              loss=keras.losses.MeanSquaredError())\r\n",
    "\r\n",
    "history = model.fit(X_train, y_train, epochs=100, batch_size=100, \r\n",
    "                    validation_data=(X_valid, y_valid),verbose=0)\r\n",
    "\r\n",
    "model.predict(X_train)"
   ],
   "outputs": [
    {
     "output_type": "execute_result",
     "data": {
      "text/plain": [
       "array([[-0.7966611 ],\n",
       "       [-0.6121895 ],\n",
       "       [ 0.03458093],\n",
       "       ...,\n",
       "       [ 1.6824687 ],\n",
       "       [-0.6412039 ],\n",
       "       [-1.1029694 ]], dtype=float32)"
      ]
     },
     "metadata": {},
     "execution_count": 79
    }
   ],
   "metadata": {}
  },
  {
   "cell_type": "markdown",
   "source": [
    "## 7. Print the MSE from the test set using the model in (6). How does this compare to the Lasso? (5 pts)"
   ],
   "metadata": {}
  },
  {
   "cell_type": "code",
   "execution_count": 80,
   "source": [
    "pred_te = model.predict(X_test)\r\n",
    "print(\"Test MSE:\",mean_squared_error(y_test,pred_te))"
   ],
   "outputs": [
    {
     "output_type": "stream",
     "name": "stdout",
     "text": [
      "Test MSE: 0.12926920123250632\n"
     ]
    }
   ],
   "metadata": {}
  },
  {
   "cell_type": "markdown",
   "source": [
    "the MSE for the neural network was significantly lower than the MSE using the Lasso regression"
   ],
   "metadata": {}
  },
  {
   "cell_type": "markdown",
   "source": [
    "## 8. Optimize the neural network you fit in Q6 to get a better MSE than the Lasso model. You should use the validation set to ensure you're not overfitting. Print the output from training this model. Consider changing the following components to improve performance (it's not required to change all of these). (20 pts)\r\n",
    "* Number of layers;\r\n",
    "* Number of neurons per layer;\r\n",
    "* Number of epochs and batch size;\r\n",
    "* Activation functions of hidden layers;\r\n",
    "* Adding regularization (Dropout layers, L1/L2 penalties, early stopping)."
   ],
   "metadata": {}
  },
  {
   "cell_type": "code",
   "execution_count": 87,
   "source": [
    "model = Sequential()\r\n",
    "model.add(Dense(100, activation='relu', input_shape=(X_train.shape[1], ),kernel_regularizer=keras.regularizers.l2(.001)))\r\n",
    "model.add(Dense(50, activation='relu'))\r\n",
    "model.add(Dense(1, activation='linear'))\r\n",
    "\r\n",
    "model.compile(optimizer='adam',\r\n",
    "              loss=keras.losses.MeanSquaredError())\r\n",
    "\r\n",
    "early_stopping = EarlyStopping(monitor='val_loss', patience=3)\r\n",
    "\r\n",
    "history = model.fit(X_train, y_train, epochs=100, batch_size=100, \r\n",
    "                    validation_data=(X_valid, y_valid), callbacks=[early_stopping], verbose=0)\r\n",
    "\r\n",
    "model.predict(X_train)"
   ],
   "outputs": [
    {
     "output_type": "execute_result",
     "data": {
      "text/plain": [
       "array([[-0.8135778 ],\n",
       "       [-0.5656206 ],\n",
       "       [ 0.06807338],\n",
       "       ...,\n",
       "       [ 1.6967919 ],\n",
       "       [-0.6295544 ],\n",
       "       [-1.1139355 ]], dtype=float32)"
      ]
     },
     "metadata": {},
     "execution_count": 87
    }
   ],
   "metadata": {}
  },
  {
   "cell_type": "markdown",
   "source": [
    "## 9. Print the MSE from the test set using the model in Q8. (5 pts) "
   ],
   "metadata": {}
  },
  {
   "cell_type": "code",
   "execution_count": 88,
   "source": [
    "pred_te = model.predict(X_test)\r\n",
    "print(\"Test MSE:\",mean_squared_error(y_test,pred_te))"
   ],
   "outputs": [
    {
     "output_type": "stream",
     "name": "stdout",
     "text": [
      "Test MSE: 0.09807123972995355\n"
     ]
    }
   ],
   "metadata": {}
  },
  {
   "cell_type": "markdown",
   "source": [
    "## 10. Plot the training and validation MSE for each epoch. (10 pts)"
   ],
   "metadata": {}
  },
  {
   "cell_type": "code",
   "execution_count": 89,
   "source": [
    "plt.plot(history.history['loss'], label='Training MSE')\r\n",
    "plt.plot(history.history['val_loss'], label='Validation MSE')\r\n",
    "plt.legend()"
   ],
   "outputs": [
    {
     "output_type": "execute_result",
     "data": {
      "text/plain": [
       "<matplotlib.legend.Legend at 0x22819495c70>"
      ]
     },
     "metadata": {},
     "execution_count": 89
    },
    {
     "output_type": "display_data",
     "data": {
      "image/png": "[encoded data removed]",
      "text/plain": [
       "<Figure size 432x288 with 1 Axes>"
      ]
     },
     "metadata": {
      "needs_background": "light"
     }
    }
   ],
   "metadata": {}
  },
  {
   "cell_type": "markdown",
   "source": [
    "## 11. In a few sentences, describe how you optimized the model in Q8. Did you find that changing certain components had bigger effects on the error rate? (5 pts)\r\n",
    "I added L2 regularization and doubled the number of neurons in the first hidden layer. That by itself decreased the MSE in half. But I was nervous I was overfitting the model so applied early stopping to the model and after than I ended with a slightly higher MSE but still lower than the first neural net."
   ],
   "metadata": {}
  },
  {
   "cell_type": "markdown",
   "source": [
    "## 12. How do you know that your model is not overfitting? That is, how do you know you didn't get lucky on the test set? (5 pts)\r\n",
    "\r\n",
    "When I'm looking at the graph from Q10, I'm seeing the validation MSE steadily decreasing. If I was overfitting to the training data set I would have expected to see leveling off of the validation MSE while the training MSE continued to decrease. I also applied early stopping to make the likelihood of overfitting to training extremely low."
   ],
   "metadata": {}
  }
 ],
 "metadata": {
  "orig_nbformat": 4,
  "language_info": {
   "name": "python",
   "version": "3.9.6",
   "mimetype": "text/x-python",
   "codemirror_mode": {
    "name": "ipython",
    "version": 3
   },
   "pygments_lexer": "ipython3",
   "nbconvert_exporter": "python",
   "file_extension": ".py"
  },
  "kernelspec": {
   "name": "python3",
   "display_name": "Python 3.9.6 64-bit"
  },
  "interpreter": {
   "hash": "b68a8a6b96af4d8fd7fa1f3f8f4e1a7c76b6b97573f1f33bfec87c39108e4348"
  }
 },
 "nbformat": 4,
 "nbformat_minor": 2
}