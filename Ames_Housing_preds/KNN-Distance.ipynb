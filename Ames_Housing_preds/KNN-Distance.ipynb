{
 "cells": [
  {
   "cell_type": "markdown",
   "source": [
    "# HW Week 3 - Statistical Learning: Distance and KNN\r\n",
    "### Jonathan Gragg - East Section\r\n",
    "\r\n",
    "## Part One: Distance and Similarity Metrics\r\n",
    "\r\n",
    "### 1. Load the Ames housing data. Create a matrix with the following variables and standardize the: Sale_Price, Lot_Area, Year_Built, Gr_Liv_Area, Total_Bsmt_SF, and Full_Bath. Randomly select five (5) rows from the matrix and print them.  (5 pts)"
   ],
   "metadata": {}
  },
  {
   "cell_type": "code",
   "execution_count": 53,
   "source": [
    "import numpy as np\r\n",
    "import pandas as pd\r\n",
    "from sklearn.preprocessing import StandardScaler, PolynomialFeatures\r\n",
    "from sklearn.linear_model import LinearRegression, LogisticRegression, LogisticRegressionCV, Lasso, Ridge\r\n",
    "from sklearn.model_selection import KFold, GridSearchCV, cross_validate, train_test_split\r\n",
    "from sklearn.metrics import mean_squared_error, mean_absolute_error\r\n",
    "from sklearn.metrics import confusion_matrix, accuracy_score,\\\r\n",
    "    recall_score, precision_score, roc_curve, roc_auc_score, precision_recall_curve\r\n",
    "import matplotlib.pyplot as plt\r\n",
    "import seaborn as sns\r\n",
    "from sklearn.metrics import pairwise_distances\r\n",
    "from sklearn.metrics.pairwise import pairwise_kernels\r\n",
    "from sklearn.neighbors import KNeighborsClassifier, KNeighborsRegressor\r\n",
    "import warnings\r\n",
    "warnings.filterwarnings(action='ignore')\r\n",
    "\r\n",
    "ames = pd.read_csv('ames.csv')\r\n",
    "cols = ['Sale_Price', 'Lot_Area', 'Year_Built', 'Gr_Liv_Area', 'Total_Bsmt_SF', 'Full_Bath']\r\n",
    "data = ames[cols].copy()\r\n",
    "data = data.dropna()\r\n",
    "scaler = StandardScaler()\r\n",
    "data = scaler.fit_transform(data)\r\n",
    "idx = np.random.randint(data.shape[0], size=5)\r\n",
    "small_data = data[idx, :]\r\n",
    "small_data"
   ],
   "outputs": [
    {
     "output_type": "execute_result",
     "data": {
      "text/plain": [
       "array([[ 0.05263277,  0.13442342,  0.84799991,  0.02237644, -0.56534299,\n",
       "         0.7840283 ],\n",
       "       [ 1.95389963, -0.00481323,  1.21175413,  0.72475893,  1.82979727,\n",
       "         0.7840283 ],\n",
       "       [-0.26036389, -0.18910822, -0.21019419, -0.34761097,  0.08334083,\n",
       "         0.7840283 ],\n",
       "       [-0.51702114, -0.12767656, -2.35965095,  0.25188734, -0.57668362,\n",
       "         0.7840283 ],\n",
       "       [-0.0913457 , -0.17501956,  1.11254844, -0.61273563,  0.26705897,\n",
       "         0.7840283 ]])"
      ]
     },
     "metadata": {},
     "execution_count": 53
    }
   ],
   "metadata": {}
  },
  {
   "cell_type": "markdown",
   "source": [
    "### 2. Create distance matrices for these five (5) observations with the following metrics. Print each distance matrix. Which points are closest and farthest from each other? Are they the same with each metric? (15 pts)\r\n",
    "\r\n",
    "* Euclidean distance"
   ],
   "metadata": {}
  },
  {
   "cell_type": "code",
   "execution_count": 54,
   "source": [
    "euc = pairwise_distances(small_data,metric='euclidean')\r\n",
    "euc"
   ],
   "outputs": [
    {
     "output_type": "execute_result",
     "data": {
      "text/plain": [
       "array([[0.        , 3.16173334, 1.37116584, 3.27643555, 1.13257717],\n",
       "       [3.16173334, 0.        , 3.34050174, 4.98901162, 2.90738423],\n",
       "       [1.37116584, 3.34050174, 0.        , 2.34197388, 1.37202665],\n",
       "       [3.27643555, 4.98901162, 2.34197388, 0.        , 3.70122736],\n",
       "       [1.13257717, 2.90738423, 1.37202665, 3.70122736, 0.        ]])"
      ]
     },
     "metadata": {},
     "execution_count": 54
    }
   ],
   "metadata": {}
  },
  {
   "cell_type": "markdown",
   "source": [
    "* Manhattan distance"
   ],
   "metadata": {}
  },
  {
   "cell_type": "code",
   "execution_count": 55,
   "source": [
    "man = pairwise_distances(small_data,metric='manhattan')\r\n",
    "man"
   ],
   "outputs": [
    {
     "output_type": "execute_result",
     "data": {
      "text/plain": [
       "array([[0.        , 5.50178049, 2.71339362, 4.28025628, 2.18548399],\n",
       "       [5.50178049, 0.        , 6.63933317, 9.04454167, 5.21489021],\n",
       "       [2.71339362, 6.63933317, 0.        , 3.72706843, 1.95469229],\n",
       "       [4.28025628, 9.04454167, 3.72706843, 0.        , 5.65358339],\n",
       "       [2.18548399, 5.21489021, 1.95469229, 5.65358339, 0.        ]])"
      ]
     },
     "metadata": {},
     "execution_count": 55
    }
   ],
   "metadata": {}
  },
  {
   "cell_type": "markdown",
   "source": [
    "* Minkowski distance with p=0.5"
   ],
   "metadata": {}
  },
  {
   "cell_type": "code",
   "execution_count": 56,
   "source": [
    "mink = pairwise_distances(small_data,metric='minkowski', p=0.5)\r\n",
    "mink"
   ],
   "outputs": [
    {
     "output_type": "execute_result",
     "data": {
      "text/plain": [
       "array([[ 0.        , 22.47552328, 12.7493277 , 13.2734027 ,  9.98157819],\n",
       "       [22.47552328,  0.        , 29.88677057, 36.61691626, 20.83235166],\n",
       "       [12.7493277 , 29.88677057,  0.        , 14.49524285,  6.88246639],\n",
       "       [13.2734027 , 36.61691626, 14.49524285,  0.        , 20.99300176],\n",
       "       [ 9.98157819, 20.83235166,  6.88246639, 20.99300176,  0.        ]])"
      ]
     },
     "metadata": {},
     "execution_count": 56
    }
   ],
   "metadata": {}
  },
  {
   "cell_type": "markdown",
   "source": [
    "In all three matrixes it seams 1, 3, and 5 are the points that are closest to each other. Each matrix has a different value however with the Minkowski distance being the largest range of distances. Also in the minkowski matrix it doesn't appear that 1 and 3 are as close as they appear in the other two matrixes."
   ],
   "metadata": {}
  },
  {
   "cell_type": "markdown",
   "source": [
    "### 3. Create similarity matrices for these five (5) observations with the following kernels. Print each similarity matrix. Which points are most similar to each other? Are they the same with each kernel? Are they the same points that were closest in question two (2)? (15 pts)\r\n",
    "\r\n",
    "* Gaussian kernel (use gamma = 1.0)"
   ],
   "metadata": {}
  },
  {
   "cell_type": "code",
   "execution_count": 57,
   "source": [
    "cmap = sns.diverging_palette(220, 10, as_cmap=True)\r\n",
    "k = pairwise_kernels(small_data, metric='rbf', gamma = 1)\r\n",
    "sns.heatmap(k, cmap=cmap)"
   ],
   "outputs": [
    {
     "output_type": "execute_result",
     "data": {
      "text/plain": [
       "<AxesSubplot:>"
      ]
     },
     "metadata": {},
     "execution_count": 57
    },
    {
     "output_type": "display_data",
     "data": {
      "image/png": "[encoded data removed]",
      "image/svg+xml": "<?xml version=\"1.0\" encoding=\"utf-8\" standalone=\"no\"?>\r\n<!DOCTYPE svg PUBLIC \"-//W3C//DTD SVG 1.1//EN\"\r\n  \"http://www.w3.org/Graphics/SVG/1.1/DTD/svg11.dtd\">\r\n<svg height=\"252.317344pt\" version=\"1.1\" viewBox=\"0 0 349.43325 252.317344\" width=\"349.43325pt\" xmlns=\"http://www.w3.org/2000/svg\" xmlns:xlink=\"http://www.w3.org/1999/xlink\">\r\n <metadata>\r\n  <rdf:RDF xmlns:cc=\"http://creativecommons.org/ns#\" xmlns:dc=\"http://purl.org/dc/elements/1.1/\" xmlns:rdf=\"http://www.w3.org/1999/02/22-rdf-syntax-ns#\">\r\n   <cc:Work>\r\n    <dc:type rdf:resource=\"http://purl.org/dc/dcmitype/StillImage\"/>\r\n    <dc:date>2021-09-08T08:14:01.183876</dc:date>\r\n    <dc:format>image/svg+xml</dc:format>\r\n    <dc:creator>\r\n     <cc:Agent>\r\n      <dc:title>Matplotlib v3.4.3, https://matplotlib.org/</dc:title>\r\n     </cc:Agent>\r\n    </dc:creator>\r\n   </cc:Work>\r\n  </rdf:RDF>\r\n </metadata>\r\n <defs>\r\n  <style type=\"text/css\">*{stroke-linecap:butt;stroke-linejoin:round;}</style>\r\n </defs>\r\n <g id=\"figure_1\">\r\n  <g id=\"patch_1\">\r\n   <path d=\"M -0 252.317344 \r\nL 349.43325 252.317344 \r\nL 349.43325 0 \r\nL -0 0 \r\nz\r\n\" style=\"fill:none;\"/>\r\n  </g>\r\n  <g id=\"axes_1\">\r\n   <g id=\"patch_2\">\r\n    <path d=\"M 23.878125 228.439219 \r\nL 291.718125 228.439219 \r\nL 291.718125 10.999219 \r\nL 23.878125 10.999219 \r\nz\r\n\" style=\"fill:#ffffff;\"/>\r\n   </g>\r\n   <g id=\"QuadMesh_1\">\r\n    <path clip-path=\"url(#pfec3c58bd5)\" d=\"M 23.878125 10.999219 \r\nL 77.446125 10.999219 \r\nL 77.446125 54.487219 \r\nL 23.878125 54.487219 \r\nL 23.878125 10.999219 \r\n\" style=\"fill:#da3b46;\"/>\r\n    <path clip-path=\"url(#pfec3c58bd5)\" d=\"M 77.446125 10.999219 \r\nL 131.014125 10.999219 \r\nL 131.014125 54.487219 \r\nL 77.446125 54.487219 \r\nL 77.446125 10.999219 \r\n\" style=\"fill:#3f7f93;\"/>\r\n    <path clip-path=\"url(#pfec3c58bd5)\" d=\"M 131.014125 10.999219 \r\nL 184.582125 10.999219 \r\nL 184.582125 54.487219 \r\nL 131.014125 54.487219 \r\nL 131.014125 10.999219 \r\n\" style=\"fill:#75a2b0;\"/>\r\n    <path clip-path=\"url(#pfec3c58bd5)\" d=\"M 184.582125 10.999219 \r\nL 238.150125 10.999219 \r\nL 238.150125 54.487219 \r\nL 184.582125 54.487219 \r\nL 184.582125 10.999219 \r\n\" style=\"fill:#3f7f93;\"/>\r\n    <path clip-path=\"url(#pfec3c58bd5)\" d=\"M 238.150125 10.999219 \r\nL 291.718125 10.999219 \r\nL 291.718125 54.487219 \r\nL 238.150125 54.487219 \r\nL 238.150125 10.999219 \r\n\" style=\"fill:#a0bec8;\"/>\r\n    <path clip-path=\"url(#pfec3c58bd5)\" d=\"M 23.878125 54.487219 \r\nL 77.446125 54.487219 \r\nL 77.446125 97.975219 \r\nL 23.878125 97.975219 \r\nL 23.878125 54.487219 \r\n\" style=\"fill:#3f7f93;\"/>\r\n    <path clip-path=\"url(#pfec3c58bd5)\" d=\"M 77.446125 54.487219 \r\nL 131.014125 54.487219 \r\nL 131.014125 97.975219 \r\nL 77.446125 97.975219 \r\nL 77.446125 54.487219 \r\n\" style=\"fill:#da3b46;\"/>\r\n    <path clip-path=\"url(#pfec3c58bd5)\" d=\"M 131.014125 54.487219 \r\nL 184.582125 54.487219 \r\nL 184.582125 97.975219 \r\nL 131.014125 97.975219 \r\nL 131.014125 54.487219 \r\n\" style=\"fill:#3f7f93;\"/>\r\n    <path clip-path=\"url(#pfec3c58bd5)\" d=\"M 184.582125 54.487219 \r\nL 238.150125 54.487219 \r\nL 238.150125 97.975219 \r\nL 184.582125 97.975219 \r\nL 184.582125 54.487219 \r\n\" style=\"fill:#3f7f93;\"/>\r\n    <path clip-path=\"url(#pfec3c58bd5)\" d=\"M 238.150125 54.487219 \r\nL 291.718125 54.487219 \r\nL 291.718125 97.975219 \r\nL 238.150125 97.975219 \r\nL 238.150125 54.487219 \r\n\" style=\"fill:#3f7f93;\"/>\r\n    <path clip-path=\"url(#pfec3c58bd5)\" d=\"M 23.878125 97.975219 \r\nL 77.446125 97.975219 \r\nL 77.446125 141.463219 \r\nL 23.878125 141.463219 \r\nL 23.878125 97.975219 \r\n\" style=\"fill:#75a2b0;\"/>\r\n    <path clip-path=\"url(#pfec3c58bd5)\" d=\"M 77.446125 97.975219 \r\nL 131.014125 97.975219 \r\nL 131.014125 141.463219 \r\nL 77.446125 141.463219 \r\nL 77.446125 97.975219 \r\n\" style=\"fill:#3f7f93;\"/>\r\n    <path clip-path=\"url(#pfec3c58bd5)\" d=\"M 131.014125 97.975219 \r\nL 184.582125 97.975219 \r\nL 184.582125 141.463219 \r\nL 131.014125 141.463219 \r\nL 131.014125 97.975219 \r\n\" style=\"fill:#da3b46;\"/>\r\n    <path clip-path=\"url(#pfec3c58bd5)\" d=\"M 184.582125 97.975219 \r\nL 238.150125 97.975219 \r\nL 238.150125 141.463219 \r\nL 184.582125 141.463219 \r\nL 184.582125 97.975219 \r\n\" style=\"fill:#408094;\"/>\r\n    <path clip-path=\"url(#pfec3c58bd5)\" d=\"M 238.150125 97.975219 \r\nL 291.718125 97.975219 \r\nL 291.718125 141.463219 \r\nL 238.150125 141.463219 \r\nL 238.150125 97.975219 \r\n\" style=\"fill:#74a1b0;\"/>\r\n    <path clip-path=\"url(#pfec3c58bd5)\" d=\"M 23.878125 141.463219 \r\nL 77.446125 141.463219 \r\nL 77.446125 184.951219 \r\nL 23.878125 184.951219 \r\nL 23.878125 141.463219 \r\n\" style=\"fill:#3f7f93;\"/>\r\n    <path clip-path=\"url(#pfec3c58bd5)\" d=\"M 77.446125 141.463219 \r\nL 131.014125 141.463219 \r\nL 131.014125 184.951219 \r\nL 77.446125 184.951219 \r\nL 77.446125 141.463219 \r\n\" style=\"fill:#3f7f93;\"/>\r\n    <path clip-path=\"url(#pfec3c58bd5)\" d=\"M 131.014125 141.463219 \r\nL 184.582125 141.463219 \r\nL 184.582125 184.951219 \r\nL 131.014125 184.951219 \r\nL 131.014125 141.463219 \r\n\" style=\"fill:#408094;\"/>\r\n    <path clip-path=\"url(#pfec3c58bd5)\" d=\"M 184.582125 141.463219 \r\nL 238.150125 141.463219 \r\nL 238.150125 184.951219 \r\nL 184.582125 184.951219 \r\nL 184.582125 141.463219 \r\n\" style=\"fill:#da3b46;\"/>\r\n    <path clip-path=\"url(#pfec3c58bd5)\" d=\"M 238.150125 141.463219 \r\nL 291.718125 141.463219 \r\nL 291.718125 184.951219 \r\nL 238.150125 184.951219 \r\nL 238.150125 141.463219 \r\n\" style=\"fill:#3f7f93;\"/>\r\n    <path clip-path=\"url(#pfec3c58bd5)\" d=\"M 23.878125 184.951219 \r\nL 77.446125 184.951219 \r\nL 77.446125 228.439219 \r\nL 23.878125 228.439219 \r\nL 23.878125 184.951219 \r\n\" style=\"fill:#a0bec8;\"/>\r\n    <path clip-path=\"url(#pfec3c58bd5)\" d=\"M 77.446125 184.951219 \r\nL 131.014125 184.951219 \r\nL 131.014125 228.439219 \r\nL 77.446125 228.439219 \r\nL 77.446125 184.951219 \r\n\" style=\"fill:#3f7f93;\"/>\r\n    <path clip-path=\"url(#pfec3c58bd5)\" d=\"M 131.014125 184.951219 \r\nL 184.582125 184.951219 \r\nL 184.582125 228.439219 \r\nL 131.014125 228.439219 \r\nL 131.014125 184.951219 \r\n\" style=\"fill:#74a1b0;\"/>\r\n    <path clip-path=\"url(#pfec3c58bd5)\" d=\"M 184.582125 184.951219 \r\nL 238.150125 184.951219 \r\nL 238.150125 228.439219 \r\nL 184.582125 228.439219 \r\nL 184.582125 184.951219 \r\n\" style=\"fill:#3f7f93;\"/>\r\n    <path clip-path=\"url(#pfec3c58bd5)\" d=\"M 238.150125 184.951219 \r\nL 291.718125 184.951219 \r\nL 291.718125 228.439219 \r\nL 238.150125 228.439219 \r\nL 238.150125 184.951219 \r\n\" style=\"fill:#da3b46;\"/>\r\n   </g>\r\n   <g id=\"matplotlib.axis_1\">\r\n    <g id=\"xtick_1\">\r\n     <g id=\"line2d_1\">\r\n      <defs>\r\n       <path d=\"M 0 0 \r\nL 0 3.5 \r\n\" id=\"m28a5749f16\" style=\"stroke:#000000;stroke-width:0.8;\"/>\r\n      </defs>\r\n      <g>\r\n       <use style=\"stroke:#000000;stroke-width:0.8;\" x=\"50.662125\" xlink:href=\"#m28a5749f16\" y=\"228.439219\"/>\r\n      </g>\r\n     </g>\r\n     <g id=\"text_1\">\r\n      <!-- 0 -->\r\n      <g transform=\"translate(47.480875 243.037656)scale(0.1 -0.1)\">\r\n       <defs>\r\n        <path d=\"M 2034 4250 \r\nQ 1547 4250 1301 3770 \r\nQ 1056 3291 1056 2328 \r\nQ 1056 1369 1301 889 \r\nQ 1547 409 2034 409 \r\nQ 2525 409 2770 889 \r\nQ 3016 1369 3016 2328 \r\nQ 3016 3291 2770 3770 \r\nQ 2525 4250 2034 4250 \r\nz\r\nM 2034 4750 \r\nQ 2819 4750 3233 4129 \r\nQ 3647 3509 3647 2328 \r\nQ 3647 1150 3233 529 \r\nQ 2819 -91 2034 -91 \r\nQ 1250 -91 836 529 \r\nQ 422 1150 422 2328 \r\nQ 422 3509 836 4129 \r\nQ 1250 4750 2034 4750 \r\nz\r\n\" id=\"DejaVuSans-30\" transform=\"scale(0.015625)\"/>\r\n       </defs>\r\n       <use xlink:href=\"#DejaVuSans-30\"/>\r\n      </g>\r\n     </g>\r\n    </g>\r\n    <g id=\"xtick_2\">\r\n     <g id=\"line2d_2\">\r\n      <g>\r\n       <use style=\"stroke:#000000;stroke-width:0.8;\" x=\"104.230125\" xlink:href=\"#m28a5749f16\" y=\"228.439219\"/>\r\n      </g>\r\n     </g>\r\n     <g id=\"text_2\">\r\n      <!-- 1 -->\r\n      <g transform=\"translate(101.048875 243.037656)scale(0.1 -0.1)\">\r\n       <defs>\r\n        <path d=\"M 794 531 \r\nL 1825 531 \r\nL 1825 4091 \r\nL 703 3866 \r\nL 703 4441 \r\nL 1819 4666 \r\nL 2450 4666 \r\nL 2450 531 \r\nL 3481 531 \r\nL 3481 0 \r\nL 794 0 \r\nL 794 531 \r\nz\r\n\" id=\"DejaVuSans-31\" transform=\"scale(0.015625)\"/>\r\n       </defs>\r\n       <use xlink:href=\"#DejaVuSans-31\"/>\r\n      </g>\r\n     </g>\r\n    </g>\r\n    <g id=\"xtick_3\">\r\n     <g id=\"line2d_3\">\r\n      <g>\r\n       <use style=\"stroke:#000000;stroke-width:0.8;\" x=\"157.798125\" xlink:href=\"#m28a5749f16\" y=\"228.439219\"/>\r\n      </g>\r\n     </g>\r\n     <g id=\"text_3\">\r\n      <!-- 2 -->\r\n      <g transform=\"translate(154.616875 243.037656)scale(0.1 -0.1)\">\r\n       <defs>\r\n        <path d=\"M 1228 531 \r\nL 3431 531 \r\nL 3431 0 \r\nL 469 0 \r\nL 469 531 \r\nQ 828 903 1448 1529 \r\nQ 2069 2156 2228 2338 \r\nQ 2531 2678 2651 2914 \r\nQ 2772 3150 2772 3378 \r\nQ 2772 3750 2511 3984 \r\nQ 2250 4219 1831 4219 \r\nQ 1534 4219 1204 4116 \r\nQ 875 4013 500 3803 \r\nL 500 4441 \r\nQ 881 4594 1212 4672 \r\nQ 1544 4750 1819 4750 \r\nQ 2544 4750 2975 4387 \r\nQ 3406 4025 3406 3419 \r\nQ 3406 3131 3298 2873 \r\nQ 3191 2616 2906 2266 \r\nQ 2828 2175 2409 1742 \r\nQ 1991 1309 1228 531 \r\nz\r\n\" id=\"DejaVuSans-32\" transform=\"scale(0.015625)\"/>\r\n       </defs>\r\n       <use xlink:href=\"#DejaVuSans-32\"/>\r\n      </g>\r\n     </g>\r\n    </g>\r\n    <g id=\"xtick_4\">\r\n     <g id=\"line2d_4\">\r\n      <g>\r\n       <use style=\"stroke:#000000;stroke-width:0.8;\" x=\"211.366125\" xlink:href=\"#m28a5749f16\" y=\"228.439219\"/>\r\n      </g>\r\n     </g>\r\n     <g id=\"text_4\">\r\n      <!-- 3 -->\r\n      <g transform=\"translate(208.184875 243.037656)scale(0.1 -0.1)\">\r\n       <defs>\r\n        <path d=\"M 2597 2516 \r\nQ 3050 2419 3304 2112 \r\nQ 3559 1806 3559 1356 \r\nQ 3559 666 3084 287 \r\nQ 2609 -91 1734 -91 \r\nQ 1441 -91 1130 -33 \r\nQ 819 25 488 141 \r\nL 488 750 \r\nQ 750 597 1062 519 \r\nQ 1375 441 1716 441 \r\nQ 2309 441 2620 675 \r\nQ 2931 909 2931 1356 \r\nQ 2931 1769 2642 2001 \r\nQ 2353 2234 1838 2234 \r\nL 1294 2234 \r\nL 1294 2753 \r\nL 1863 2753 \r\nQ 2328 2753 2575 2939 \r\nQ 2822 3125 2822 3475 \r\nQ 2822 3834 2567 4026 \r\nQ 2313 4219 1838 4219 \r\nQ 1578 4219 1281 4162 \r\nQ 984 4106 628 3988 \r\nL 628 4550 \r\nQ 988 4650 1302 4700 \r\nQ 1616 4750 1894 4750 \r\nQ 2613 4750 3031 4423 \r\nQ 3450 4097 3450 3541 \r\nQ 3450 3153 3228 2886 \r\nQ 3006 2619 2597 2516 \r\nz\r\n\" id=\"DejaVuSans-33\" transform=\"scale(0.015625)\"/>\r\n       </defs>\r\n       <use xlink:href=\"#DejaVuSans-33\"/>\r\n      </g>\r\n     </g>\r\n    </g>\r\n    <g id=\"xtick_5\">\r\n     <g id=\"line2d_5\">\r\n      <g>\r\n       <use style=\"stroke:#000000;stroke-width:0.8;\" x=\"264.934125\" xlink:href=\"#m28a5749f16\" y=\"228.439219\"/>\r\n      </g>\r\n     </g>\r\n     <g id=\"text_5\">\r\n      <!-- 4 -->\r\n      <g transform=\"translate(261.752875 243.037656)scale(0.1 -0.1)\">\r\n       <defs>\r\n        <path d=\"M 2419 4116 \r\nL 825 1625 \r\nL 2419 1625 \r\nL 2419 4116 \r\nz\r\nM 2253 4666 \r\nL 3047 4666 \r\nL 3047 1625 \r\nL 3713 1625 \r\nL 3713 1100 \r\nL 3047 1100 \r\nL 3047 0 \r\nL 2419 0 \r\nL 2419 1100 \r\nL 313 1100 \r\nL 313 1709 \r\nL 2253 4666 \r\nz\r\n\" id=\"DejaVuSans-34\" transform=\"scale(0.015625)\"/>\r\n       </defs>\r\n       <use xlink:href=\"#DejaVuSans-34\"/>\r\n      </g>\r\n     </g>\r\n    </g>\r\n   </g>\r\n   <g id=\"matplotlib.axis_2\">\r\n    <g id=\"ytick_1\">\r\n     <g id=\"line2d_6\">\r\n      <defs>\r\n       <path d=\"M 0 0 \r\nL -3.5 0 \r\n\" id=\"mc1c12e5b40\" style=\"stroke:#000000;stroke-width:0.8;\"/>\r\n      </defs>\r\n      <g>\r\n       <use style=\"stroke:#000000;stroke-width:0.8;\" x=\"23.878125\" xlink:href=\"#mc1c12e5b40\" y=\"32.743219\"/>\r\n      </g>\r\n     </g>\r\n     <g id=\"text_6\">\r\n      <!-- 0 -->\r\n      <g transform=\"translate(14.798438 35.924469)rotate(-90)scale(0.1 -0.1)\">\r\n       <use xlink:href=\"#DejaVuSans-30\"/>\r\n      </g>\r\n     </g>\r\n    </g>\r\n    <g id=\"ytick_2\">\r\n     <g id=\"line2d_7\">\r\n      <g>\r\n       <use style=\"stroke:#000000;stroke-width:0.8;\" x=\"23.878125\" xlink:href=\"#mc1c12e5b40\" y=\"76.231219\"/>\r\n      </g>\r\n     </g>\r\n     <g id=\"text_7\">\r\n      <!-- 1 -->\r\n      <g transform=\"translate(14.798438 79.412469)rotate(-90)scale(0.1 -0.1)\">\r\n       <use xlink:href=\"#DejaVuSans-31\"/>\r\n      </g>\r\n     </g>\r\n    </g>\r\n    <g id=\"ytick_3\">\r\n     <g id=\"line2d_8\">\r\n      <g>\r\n       <use style=\"stroke:#000000;stroke-width:0.8;\" x=\"23.878125\" xlink:href=\"#mc1c12e5b40\" y=\"119.719219\"/>\r\n      </g>\r\n     </g>\r\n     <g id=\"text_8\">\r\n      <!-- 2 -->\r\n      <g transform=\"translate(14.798438 122.900469)rotate(-90)scale(0.1 -0.1)\">\r\n       <use xlink:href=\"#DejaVuSans-32\"/>\r\n      </g>\r\n     </g>\r\n    </g>\r\n    <g id=\"ytick_4\">\r\n     <g id=\"line2d_9\">\r\n      <g>\r\n       <use style=\"stroke:#000000;stroke-width:0.8;\" x=\"23.878125\" xlink:href=\"#mc1c12e5b40\" y=\"163.207219\"/>\r\n      </g>\r\n     </g>\r\n     <g id=\"text_9\">\r\n      <!-- 3 -->\r\n      <g transform=\"translate(14.798438 166.388469)rotate(-90)scale(0.1 -0.1)\">\r\n       <use xlink:href=\"#DejaVuSans-33\"/>\r\n      </g>\r\n     </g>\r\n    </g>\r\n    <g id=\"ytick_5\">\r\n     <g id=\"line2d_10\">\r\n      <g>\r\n       <use style=\"stroke:#000000;stroke-width:0.8;\" x=\"23.878125\" xlink:href=\"#mc1c12e5b40\" y=\"206.695219\"/>\r\n      </g>\r\n     </g>\r\n     <g id=\"text_10\">\r\n      <!-- 4 -->\r\n      <g transform=\"translate(14.798438 209.876469)rotate(-90)scale(0.1 -0.1)\">\r\n       <use xlink:href=\"#DejaVuSans-34\"/>\r\n      </g>\r\n     </g>\r\n    </g>\r\n   </g>\r\n  </g>\r\n  <g id=\"axes_2\">\r\n   <g id=\"patch_3\">\r\n    <path d=\"M 308.458125 228.439219 \r\nL 319.330125 228.439219 \r\nL 319.330125 10.999219 \r\nL 308.458125 10.999219 \r\nz\r\n\" style=\"fill:#ffffff;\"/>\r\n   </g>\r\n   <g id=\"patch_4\">\r\n    <path clip-path=\"url(#p58e1eb3991)\" d=\"M 308.458125 228.439219 \r\nL 308.458125 227.589844 \r\nL 308.458125 11.848594 \r\nL 308.458125 10.999219 \r\nL 319.330125 10.999219 \r\nL 319.330125 11.848594 \r\nL 319.330125 227.589844 \r\nL 319.330125 228.439219 \r\nL 319.330125 228.439219 \r\nz\r\n\" style=\"fill:#ffffff;stroke:#ffffff;stroke-linejoin:miter;stroke-width:0.01;\"/>\r\n   </g>\r\n   <image height=\"217\" id=\"image9c58b01d3f\" transform=\"scale(1 -1)translate(0 -217)\" width=\"11\" x=\"308\" xlink:href=\"data:image/png;base64,\r\niVBORw0KGgoAAAANSUhEUgAAAAsAAADZCAYAAAD2WsoCAAABLklEQVR4nO2YQQ4DMQgDEzb/6tP6iH1vQq/tjTlYMtXu2UJgsCE7X+87R/Fbc84qdqwrADhIZJQGAoOUx5oDsREgMknDhDphuwnPJtQhNuCIytpdhtI0ggw/06AHdazdZJ5hzmWskrrwcP6Q+YbOzE3mGWkwJlJ3PzM32YMdCzTxOhfnb+h1z6L/Bl8eGjShzmTRQ5MpY7EV9Hvi6RaQcluVsT2dH5r5nw+/cp5BGrF3HTyy/FONgs+pg5NFJmAZG5mgQJYzYoMUmCwNUqCugySN3KgpsgJNlIKGXzaiQqXo1N1QKalzfp1STKzAw8wT8awDmygFRT66PShTiq4pHs7PBOvh/MxyPZxfuQc9biSTK9dEKSZXrolSPLxOqJSO6n7uup/IHk88E3Wr7roPdHz1vHFguj8AAAAASUVORK5CYII=\" y=\"-11\"/>\r\n   <g id=\"matplotlib.axis_3\"/>\r\n   <g id=\"matplotlib.axis_4\">\r\n    <g id=\"ytick_6\">\r\n     <g id=\"line2d_11\">\r\n      <defs>\r\n       <path d=\"M 0 0 \r\nL 3.5 0 \r\n\" id=\"ma8bc9b2641\" style=\"stroke:#000000;stroke-width:0.8;\"/>\r\n      </defs>\r\n      <g>\r\n       <use style=\"stroke:#000000;stroke-width:0.8;\" x=\"319.330125\" xlink:href=\"#ma8bc9b2641\" y=\"228.439219\"/>\r\n      </g>\r\n     </g>\r\n     <g id=\"text_11\">\r\n      <!-- 0.0 -->\r\n      <g transform=\"translate(326.330125 232.238438)scale(0.1 -0.1)\">\r\n       <defs>\r\n        <path d=\"M 684 794 \r\nL 1344 794 \r\nL 1344 0 \r\nL 684 0 \r\nL 684 794 \r\nz\r\n\" id=\"DejaVuSans-2e\" transform=\"scale(0.015625)\"/>\r\n       </defs>\r\n       <use xlink:href=\"#DejaVuSans-30\"/>\r\n       <use x=\"63.623047\" xlink:href=\"#DejaVuSans-2e\"/>\r\n       <use x=\"95.410156\" xlink:href=\"#DejaVuSans-30\"/>\r\n      </g>\r\n     </g>\r\n    </g>\r\n    <g id=\"ytick_7\">\r\n     <g id=\"line2d_12\">\r\n      <g>\r\n       <use style=\"stroke:#000000;stroke-width:0.8;\" x=\"319.330125\" xlink:href=\"#ma8bc9b2641\" y=\"184.951219\"/>\r\n      </g>\r\n     </g>\r\n     <g id=\"text_12\">\r\n      <!-- 0.2 -->\r\n      <g transform=\"translate(326.330125 188.750438)scale(0.1 -0.1)\">\r\n       <use xlink:href=\"#DejaVuSans-30\"/>\r\n       <use x=\"63.623047\" xlink:href=\"#DejaVuSans-2e\"/>\r\n       <use x=\"95.410156\" xlink:href=\"#DejaVuSans-32\"/>\r\n      </g>\r\n     </g>\r\n    </g>\r\n    <g id=\"ytick_8\">\r\n     <g id=\"line2d_13\">\r\n      <g>\r\n       <use style=\"stroke:#000000;stroke-width:0.8;\" x=\"319.330125\" xlink:href=\"#ma8bc9b2641\" y=\"141.463219\"/>\r\n      </g>\r\n     </g>\r\n     <g id=\"text_13\">\r\n      <!-- 0.4 -->\r\n      <g transform=\"translate(326.330125 145.262438)scale(0.1 -0.1)\">\r\n       <use xlink:href=\"#DejaVuSans-30\"/>\r\n       <use x=\"63.623047\" xlink:href=\"#DejaVuSans-2e\"/>\r\n       <use x=\"95.410156\" xlink:href=\"#DejaVuSans-34\"/>\r\n      </g>\r\n     </g>\r\n    </g>\r\n    <g id=\"ytick_9\">\r\n     <g id=\"line2d_14\">\r\n      <g>\r\n       <use style=\"stroke:#000000;stroke-width:0.8;\" x=\"319.330125\" xlink:href=\"#ma8bc9b2641\" y=\"97.975219\"/>\r\n      </g>\r\n     </g>\r\n     <g id=\"text_14\">\r\n      <!-- 0.6 -->\r\n      <g transform=\"translate(326.330125 101.774438)scale(0.1 -0.1)\">\r\n       <defs>\r\n        <path d=\"M 2113 2584 \r\nQ 1688 2584 1439 2293 \r\nQ 1191 2003 1191 1497 \r\nQ 1191 994 1439 701 \r\nQ 1688 409 2113 409 \r\nQ 2538 409 2786 701 \r\nQ 3034 994 3034 1497 \r\nQ 3034 2003 2786 2293 \r\nQ 2538 2584 2113 2584 \r\nz\r\nM 3366 4563 \r\nL 3366 3988 \r\nQ 3128 4100 2886 4159 \r\nQ 2644 4219 2406 4219 \r\nQ 1781 4219 1451 3797 \r\nQ 1122 3375 1075 2522 \r\nQ 1259 2794 1537 2939 \r\nQ 1816 3084 2150 3084 \r\nQ 2853 3084 3261 2657 \r\nQ 3669 2231 3669 1497 \r\nQ 3669 778 3244 343 \r\nQ 2819 -91 2113 -91 \r\nQ 1303 -91 875 529 \r\nQ 447 1150 447 2328 \r\nQ 447 3434 972 4092 \r\nQ 1497 4750 2381 4750 \r\nQ 2619 4750 2861 4703 \r\nQ 3103 4656 3366 4563 \r\nz\r\n\" id=\"DejaVuSans-36\" transform=\"scale(0.015625)\"/>\r\n       </defs>\r\n       <use xlink:href=\"#DejaVuSans-30\"/>\r\n       <use x=\"63.623047\" xlink:href=\"#DejaVuSans-2e\"/>\r\n       <use x=\"95.410156\" xlink:href=\"#DejaVuSans-36\"/>\r\n      </g>\r\n     </g>\r\n    </g>\r\n    <g id=\"ytick_10\">\r\n     <g id=\"line2d_15\">\r\n      <g>\r\n       <use style=\"stroke:#000000;stroke-width:0.8;\" x=\"319.330125\" xlink:href=\"#ma8bc9b2641\" y=\"54.487219\"/>\r\n      </g>\r\n     </g>\r\n     <g id=\"text_15\">\r\n      <!-- 0.8 -->\r\n      <g transform=\"translate(326.330125 58.286438)scale(0.1 -0.1)\">\r\n       <defs>\r\n        <path d=\"M 2034 2216 \r\nQ 1584 2216 1326 1975 \r\nQ 1069 1734 1069 1313 \r\nQ 1069 891 1326 650 \r\nQ 1584 409 2034 409 \r\nQ 2484 409 2743 651 \r\nQ 3003 894 3003 1313 \r\nQ 3003 1734 2745 1975 \r\nQ 2488 2216 2034 2216 \r\nz\r\nM 1403 2484 \r\nQ 997 2584 770 2862 \r\nQ 544 3141 544 3541 \r\nQ 544 4100 942 4425 \r\nQ 1341 4750 2034 4750 \r\nQ 2731 4750 3128 4425 \r\nQ 3525 4100 3525 3541 \r\nQ 3525 3141 3298 2862 \r\nQ 3072 2584 2669 2484 \r\nQ 3125 2378 3379 2068 \r\nQ 3634 1759 3634 1313 \r\nQ 3634 634 3220 271 \r\nQ 2806 -91 2034 -91 \r\nQ 1263 -91 848 271 \r\nQ 434 634 434 1313 \r\nQ 434 1759 690 2068 \r\nQ 947 2378 1403 2484 \r\nz\r\nM 1172 3481 \r\nQ 1172 3119 1398 2916 \r\nQ 1625 2713 2034 2713 \r\nQ 2441 2713 2670 2916 \r\nQ 2900 3119 2900 3481 \r\nQ 2900 3844 2670 4047 \r\nQ 2441 4250 2034 4250 \r\nQ 1625 4250 1398 4047 \r\nQ 1172 3844 1172 3481 \r\nz\r\n\" id=\"DejaVuSans-38\" transform=\"scale(0.015625)\"/>\r\n       </defs>\r\n       <use xlink:href=\"#DejaVuSans-30\"/>\r\n       <use x=\"63.623047\" xlink:href=\"#DejaVuSans-2e\"/>\r\n       <use x=\"95.410156\" xlink:href=\"#DejaVuSans-38\"/>\r\n      </g>\r\n     </g>\r\n    </g>\r\n    <g id=\"ytick_11\">\r\n     <g id=\"line2d_16\">\r\n      <g>\r\n       <use style=\"stroke:#000000;stroke-width:0.8;\" x=\"319.330125\" xlink:href=\"#ma8bc9b2641\" y=\"10.999219\"/>\r\n      </g>\r\n     </g>\r\n     <g id=\"text_16\">\r\n      <!-- 1.0 -->\r\n      <g transform=\"translate(326.330125 14.798437)scale(0.1 -0.1)\">\r\n       <use xlink:href=\"#DejaVuSans-31\"/>\r\n       <use x=\"63.623047\" xlink:href=\"#DejaVuSans-2e\"/>\r\n       <use x=\"95.410156\" xlink:href=\"#DejaVuSans-30\"/>\r\n      </g>\r\n     </g>\r\n    </g>\r\n   </g>\r\n   <g id=\"LineCollection_1\"/>\r\n   <g id=\"patch_5\">\r\n    <path d=\"M 308.458125 228.439219 \r\nL 308.458125 227.589844 \r\nL 308.458125 11.848594 \r\nL 308.458125 10.999219 \r\nL 319.330125 10.999219 \r\nL 319.330125 11.848594 \r\nL 319.330125 227.589844 \r\nL 319.330125 228.439219 \r\nz\r\n\" style=\"fill:none;\"/>\r\n   </g>\r\n  </g>\r\n </g>\r\n <defs>\r\n  <clipPath id=\"pfec3c58bd5\">\r\n   <rect height=\"217.44\" width=\"267.84\" x=\"23.878125\" y=\"10.999219\"/>\r\n  </clipPath>\r\n  <clipPath id=\"p58e1eb3991\">\r\n   <rect height=\"217.44\" width=\"10.872\" x=\"308.458125\" y=\"10.999219\"/>\r\n  </clipPath>\r\n </defs>\r\n</svg>\r\n",
      "text/plain": [
       "<Figure size 432x288 with 2 Axes>"
      ]
     },
     "metadata": {
      "needs_background": "light"
     }
    }
   ],
   "metadata": {}
  },
  {
   "cell_type": "markdown",
   "source": [
    "* Laplace kernel (use gamma = 1.0)"
   ],
   "metadata": {}
  },
  {
   "cell_type": "code",
   "execution_count": 58,
   "source": [
    "l = pairwise_kernels(small_data, metric='laplacian', gamma = 1)\r\n",
    "sns.heatmap(l, cmap=cmap)"
   ],
   "outputs": [
    {
     "output_type": "execute_result",
     "data": {
      "text/plain": [
       "<AxesSubplot:>"
      ]
     },
     "metadata": {},
     "execution_count": 58
    },
    {
     "output_type": "display_data",
     "data": {
      "image/png": "[encoded data removed]",
      "image/svg+xml": "<?xml version=\"1.0\" encoding=\"utf-8\" standalone=\"no\"?>\r\n<!DOCTYPE svg PUBLIC \"-//W3C//DTD SVG 1.1//EN\"\r\n  \"http://www.w3.org/Graphics/SVG/1.1/DTD/svg11.dtd\">\r\n<svg height=\"252.317344pt\" version=\"1.1\" viewBox=\"0 0 349.43325 252.317344\" width=\"349.43325pt\" xmlns=\"http://www.w3.org/2000/svg\" xmlns:xlink=\"http://www.w3.org/1999/xlink\">\r\n <metadata>\r\n  <rdf:RDF xmlns:cc=\"http://creativecommons.org/ns#\" xmlns:dc=\"http://purl.org/dc/elements/1.1/\" xmlns:rdf=\"http://www.w3.org/1999/02/22-rdf-syntax-ns#\">\r\n   <cc:Work>\r\n    <dc:type rdf:resource=\"http://purl.org/dc/dcmitype/StillImage\"/>\r\n    <dc:date>2021-09-08T08:14:01.394637</dc:date>\r\n    <dc:format>image/svg+xml</dc:format>\r\n    <dc:creator>\r\n     <cc:Agent>\r\n      <dc:title>Matplotlib v3.4.3, https://matplotlib.org/</dc:title>\r\n     </cc:Agent>\r\n    </dc:creator>\r\n   </cc:Work>\r\n  </rdf:RDF>\r\n </metadata>\r\n <defs>\r\n  <style type=\"text/css\">*{stroke-linecap:butt;stroke-linejoin:round;}</style>\r\n </defs>\r\n <g id=\"figure_1\">\r\n  <g id=\"patch_1\">\r\n   <path d=\"M -0 252.317344 \r\nL 349.43325 252.317344 \r\nL 349.43325 0 \r\nL -0 0 \r\nz\r\n\" style=\"fill:none;\"/>\r\n  </g>\r\n  <g id=\"axes_1\">\r\n   <g id=\"patch_2\">\r\n    <path d=\"M 23.878125 228.439219 \r\nL 291.718125 228.439219 \r\nL 291.718125 10.999219 \r\nL 23.878125 10.999219 \r\nz\r\n\" style=\"fill:#ffffff;\"/>\r\n   </g>\r\n   <g id=\"QuadMesh_1\">\r\n    <path clip-path=\"url(#p1815b33e48)\" d=\"M 23.878125 10.999219 \r\nL 77.446125 10.999219 \r\nL 77.446125 54.487219 \r\nL 23.878125 54.487219 \r\nL 23.878125 10.999219 \r\n\" style=\"fill:#da3b46;\"/>\r\n    <path clip-path=\"url(#p1815b33e48)\" d=\"M 77.446125 10.999219 \r\nL 131.014125 10.999219 \r\nL 131.014125 54.487219 \r\nL 77.446125 54.487219 \r\nL 77.446125 10.999219 \r\n\" style=\"fill:#408094;\"/>\r\n    <path clip-path=\"url(#p1815b33e48)\" d=\"M 131.014125 10.999219 \r\nL 184.582125 10.999219 \r\nL 184.582125 54.487219 \r\nL 131.014125 54.487219 \r\nL 131.014125 10.999219 \r\n\" style=\"fill:#558e9f;\"/>\r\n    <path clip-path=\"url(#p1815b33e48)\" d=\"M 184.582125 10.999219 \r\nL 238.150125 10.999219 \r\nL 238.150125 54.487219 \r\nL 184.582125 54.487219 \r\nL 184.582125 10.999219 \r\n\" style=\"fill:#438295;\"/>\r\n    <path clip-path=\"url(#p1815b33e48)\" d=\"M 238.150125 10.999219 \r\nL 291.718125 10.999219 \r\nL 291.718125 54.487219 \r\nL 238.150125 54.487219 \r\nL 238.150125 10.999219 \r\n\" style=\"fill:#6698a8;\"/>\r\n    <path clip-path=\"url(#p1815b33e48)\" d=\"M 23.878125 54.487219 \r\nL 77.446125 54.487219 \r\nL 77.446125 97.975219 \r\nL 23.878125 97.975219 \r\nL 23.878125 54.487219 \r\n\" style=\"fill:#408094;\"/>\r\n    <path clip-path=\"url(#p1815b33e48)\" d=\"M 77.446125 54.487219 \r\nL 131.014125 54.487219 \r\nL 131.014125 97.975219 \r\nL 77.446125 97.975219 \r\nL 77.446125 54.487219 \r\n\" style=\"fill:#da3b46;\"/>\r\n    <path clip-path=\"url(#p1815b33e48)\" d=\"M 131.014125 54.487219 \r\nL 184.582125 54.487219 \r\nL 184.582125 97.975219 \r\nL 131.014125 97.975219 \r\nL 131.014125 54.487219 \r\n\" style=\"fill:#3f7f93;\"/>\r\n    <path clip-path=\"url(#p1815b33e48)\" d=\"M 184.582125 54.487219 \r\nL 238.150125 54.487219 \r\nL 238.150125 97.975219 \r\nL 184.582125 97.975219 \r\nL 184.582125 54.487219 \r\n\" style=\"fill:#3f7f93;\"/>\r\n    <path clip-path=\"url(#p1815b33e48)\" d=\"M 238.150125 54.487219 \r\nL 291.718125 54.487219 \r\nL 291.718125 97.975219 \r\nL 238.150125 97.975219 \r\nL 238.150125 54.487219 \r\n\" style=\"fill:#408094;\"/>\r\n    <path clip-path=\"url(#p1815b33e48)\" d=\"M 23.878125 97.975219 \r\nL 77.446125 97.975219 \r\nL 77.446125 141.463219 \r\nL 23.878125 141.463219 \r\nL 23.878125 97.975219 \r\n\" style=\"fill:#558e9f;\"/>\r\n    <path clip-path=\"url(#p1815b33e48)\" d=\"M 77.446125 97.975219 \r\nL 131.014125 97.975219 \r\nL 131.014125 141.463219 \r\nL 77.446125 141.463219 \r\nL 77.446125 97.975219 \r\n\" style=\"fill:#3f7f93;\"/>\r\n    <path clip-path=\"url(#p1815b33e48)\" d=\"M 131.014125 97.975219 \r\nL 184.582125 97.975219 \r\nL 184.582125 141.463219 \r\nL 131.014125 141.463219 \r\nL 131.014125 97.975219 \r\n\" style=\"fill:#da3b46;\"/>\r\n    <path clip-path=\"url(#p1815b33e48)\" d=\"M 184.582125 97.975219 \r\nL 238.150125 97.975219 \r\nL 238.150125 141.463219 \r\nL 184.582125 141.463219 \r\nL 184.582125 97.975219 \r\n\" style=\"fill:#478598;\"/>\r\n    <path clip-path=\"url(#p1815b33e48)\" d=\"M 238.150125 97.975219 \r\nL 291.718125 97.975219 \r\nL 291.718125 141.463219 \r\nL 238.150125 141.463219 \r\nL 238.150125 97.975219 \r\n\" style=\"fill:#71a0ae;\"/>\r\n    <path clip-path=\"url(#p1815b33e48)\" d=\"M 23.878125 141.463219 \r\nL 77.446125 141.463219 \r\nL 77.446125 184.951219 \r\nL 23.878125 184.951219 \r\nL 23.878125 141.463219 \r\n\" style=\"fill:#438295;\"/>\r\n    <path clip-path=\"url(#p1815b33e48)\" d=\"M 77.446125 141.463219 \r\nL 131.014125 141.463219 \r\nL 131.014125 184.951219 \r\nL 77.446125 184.951219 \r\nL 77.446125 141.463219 \r\n\" style=\"fill:#3f7f93;\"/>\r\n    <path clip-path=\"url(#p1815b33e48)\" d=\"M 131.014125 141.463219 \r\nL 184.582125 141.463219 \r\nL 184.582125 184.951219 \r\nL 131.014125 184.951219 \r\nL 131.014125 141.463219 \r\n\" style=\"fill:#478598;\"/>\r\n    <path clip-path=\"url(#p1815b33e48)\" d=\"M 184.582125 141.463219 \r\nL 238.150125 141.463219 \r\nL 238.150125 184.951219 \r\nL 184.582125 184.951219 \r\nL 184.582125 141.463219 \r\n\" style=\"fill:#da3b46;\"/>\r\n    <path clip-path=\"url(#p1815b33e48)\" d=\"M 238.150125 141.463219 \r\nL 291.718125 141.463219 \r\nL 291.718125 184.951219 \r\nL 238.150125 184.951219 \r\nL 238.150125 141.463219 \r\n\" style=\"fill:#3f7f93;\"/>\r\n    <path clip-path=\"url(#p1815b33e48)\" d=\"M 23.878125 184.951219 \r\nL 77.446125 184.951219 \r\nL 77.446125 228.439219 \r\nL 23.878125 228.439219 \r\nL 23.878125 184.951219 \r\n\" style=\"fill:#6698a8;\"/>\r\n    <path clip-path=\"url(#p1815b33e48)\" d=\"M 77.446125 184.951219 \r\nL 131.014125 184.951219 \r\nL 131.014125 228.439219 \r\nL 77.446125 228.439219 \r\nL 77.446125 184.951219 \r\n\" style=\"fill:#408094;\"/>\r\n    <path clip-path=\"url(#p1815b33e48)\" d=\"M 131.014125 184.951219 \r\nL 184.582125 184.951219 \r\nL 184.582125 228.439219 \r\nL 131.014125 228.439219 \r\nL 131.014125 184.951219 \r\n\" style=\"fill:#71a0ae;\"/>\r\n    <path clip-path=\"url(#p1815b33e48)\" d=\"M 184.582125 184.951219 \r\nL 238.150125 184.951219 \r\nL 238.150125 228.439219 \r\nL 184.582125 228.439219 \r\nL 184.582125 184.951219 \r\n\" style=\"fill:#3f7f93;\"/>\r\n    <path clip-path=\"url(#p1815b33e48)\" d=\"M 238.150125 184.951219 \r\nL 291.718125 184.951219 \r\nL 291.718125 228.439219 \r\nL 238.150125 228.439219 \r\nL 238.150125 184.951219 \r\n\" style=\"fill:#da3b46;\"/>\r\n   </g>\r\n   <g id=\"matplotlib.axis_1\">\r\n    <g id=\"xtick_1\">\r\n     <g id=\"line2d_1\">\r\n      <defs>\r\n       <path d=\"M 0 0 \r\nL 0 3.5 \r\n\" id=\"m652b373453\" style=\"stroke:#000000;stroke-width:0.8;\"/>\r\n      </defs>\r\n      <g>\r\n       <use style=\"stroke:#000000;stroke-width:0.8;\" x=\"50.662125\" xlink:href=\"#m652b373453\" y=\"228.439219\"/>\r\n      </g>\r\n     </g>\r\n     <g id=\"text_1\">\r\n      <!-- 0 -->\r\n      <g transform=\"translate(47.480875 243.037656)scale(0.1 -0.1)\">\r\n       <defs>\r\n        <path d=\"M 2034 4250 \r\nQ 1547 4250 1301 3770 \r\nQ 1056 3291 1056 2328 \r\nQ 1056 1369 1301 889 \r\nQ 1547 409 2034 409 \r\nQ 2525 409 2770 889 \r\nQ 3016 1369 3016 2328 \r\nQ 3016 3291 2770 3770 \r\nQ 2525 4250 2034 4250 \r\nz\r\nM 2034 4750 \r\nQ 2819 4750 3233 4129 \r\nQ 3647 3509 3647 2328 \r\nQ 3647 1150 3233 529 \r\nQ 2819 -91 2034 -91 \r\nQ 1250 -91 836 529 \r\nQ 422 1150 422 2328 \r\nQ 422 3509 836 4129 \r\nQ 1250 4750 2034 4750 \r\nz\r\n\" id=\"DejaVuSans-30\" transform=\"scale(0.015625)\"/>\r\n       </defs>\r\n       <use xlink:href=\"#DejaVuSans-30\"/>\r\n      </g>\r\n     </g>\r\n    </g>\r\n    <g id=\"xtick_2\">\r\n     <g id=\"line2d_2\">\r\n      <g>\r\n       <use style=\"stroke:#000000;stroke-width:0.8;\" x=\"104.230125\" xlink:href=\"#m652b373453\" y=\"228.439219\"/>\r\n      </g>\r\n     </g>\r\n     <g id=\"text_2\">\r\n      <!-- 1 -->\r\n      <g transform=\"translate(101.048875 243.037656)scale(0.1 -0.1)\">\r\n       <defs>\r\n        <path d=\"M 794 531 \r\nL 1825 531 \r\nL 1825 4091 \r\nL 703 3866 \r\nL 703 4441 \r\nL 1819 4666 \r\nL 2450 4666 \r\nL 2450 531 \r\nL 3481 531 \r\nL 3481 0 \r\nL 794 0 \r\nL 794 531 \r\nz\r\n\" id=\"DejaVuSans-31\" transform=\"scale(0.015625)\"/>\r\n       </defs>\r\n       <use xlink:href=\"#DejaVuSans-31\"/>\r\n      </g>\r\n     </g>\r\n    </g>\r\n    <g id=\"xtick_3\">\r\n     <g id=\"line2d_3\">\r\n      <g>\r\n       <use style=\"stroke:#000000;stroke-width:0.8;\" x=\"157.798125\" xlink:href=\"#m652b373453\" y=\"228.439219\"/>\r\n      </g>\r\n     </g>\r\n     <g id=\"text_3\">\r\n      <!-- 2 -->\r\n      <g transform=\"translate(154.616875 243.037656)scale(0.1 -0.1)\">\r\n       <defs>\r\n        <path d=\"M 1228 531 \r\nL 3431 531 \r\nL 3431 0 \r\nL 469 0 \r\nL 469 531 \r\nQ 828 903 1448 1529 \r\nQ 2069 2156 2228 2338 \r\nQ 2531 2678 2651 2914 \r\nQ 2772 3150 2772 3378 \r\nQ 2772 3750 2511 3984 \r\nQ 2250 4219 1831 4219 \r\nQ 1534 4219 1204 4116 \r\nQ 875 4013 500 3803 \r\nL 500 4441 \r\nQ 881 4594 1212 4672 \r\nQ 1544 4750 1819 4750 \r\nQ 2544 4750 2975 4387 \r\nQ 3406 4025 3406 3419 \r\nQ 3406 3131 3298 2873 \r\nQ 3191 2616 2906 2266 \r\nQ 2828 2175 2409 1742 \r\nQ 1991 1309 1228 531 \r\nz\r\n\" id=\"DejaVuSans-32\" transform=\"scale(0.015625)\"/>\r\n       </defs>\r\n       <use xlink:href=\"#DejaVuSans-32\"/>\r\n      </g>\r\n     </g>\r\n    </g>\r\n    <g id=\"xtick_4\">\r\n     <g id=\"line2d_4\">\r\n      <g>\r\n       <use style=\"stroke:#000000;stroke-width:0.8;\" x=\"211.366125\" xlink:href=\"#m652b373453\" y=\"228.439219\"/>\r\n      </g>\r\n     </g>\r\n     <g id=\"text_4\">\r\n      <!-- 3 -->\r\n      <g transform=\"translate(208.184875 243.037656)scale(0.1 -0.1)\">\r\n       <defs>\r\n        <path d=\"M 2597 2516 \r\nQ 3050 2419 3304 2112 \r\nQ 3559 1806 3559 1356 \r\nQ 3559 666 3084 287 \r\nQ 2609 -91 1734 -91 \r\nQ 1441 -91 1130 -33 \r\nQ 819 25 488 141 \r\nL 488 750 \r\nQ 750 597 1062 519 \r\nQ 1375 441 1716 441 \r\nQ 2309 441 2620 675 \r\nQ 2931 909 2931 1356 \r\nQ 2931 1769 2642 2001 \r\nQ 2353 2234 1838 2234 \r\nL 1294 2234 \r\nL 1294 2753 \r\nL 1863 2753 \r\nQ 2328 2753 2575 2939 \r\nQ 2822 3125 2822 3475 \r\nQ 2822 3834 2567 4026 \r\nQ 2313 4219 1838 4219 \r\nQ 1578 4219 1281 4162 \r\nQ 984 4106 628 3988 \r\nL 628 4550 \r\nQ 988 4650 1302 4700 \r\nQ 1616 4750 1894 4750 \r\nQ 2613 4750 3031 4423 \r\nQ 3450 4097 3450 3541 \r\nQ 3450 3153 3228 2886 \r\nQ 3006 2619 2597 2516 \r\nz\r\n\" id=\"DejaVuSans-33\" transform=\"scale(0.015625)\"/>\r\n       </defs>\r\n       <use xlink:href=\"#DejaVuSans-33\"/>\r\n      </g>\r\n     </g>\r\n    </g>\r\n    <g id=\"xtick_5\">\r\n     <g id=\"line2d_5\">\r\n      <g>\r\n       <use style=\"stroke:#000000;stroke-width:0.8;\" x=\"264.934125\" xlink:href=\"#m652b373453\" y=\"228.439219\"/>\r\n      </g>\r\n     </g>\r\n     <g id=\"text_5\">\r\n      <!-- 4 -->\r\n      <g transform=\"translate(261.752875 243.037656)scale(0.1 -0.1)\">\r\n       <defs>\r\n        <path d=\"M 2419 4116 \r\nL 825 1625 \r\nL 2419 1625 \r\nL 2419 4116 \r\nz\r\nM 2253 4666 \r\nL 3047 4666 \r\nL 3047 1625 \r\nL 3713 1625 \r\nL 3713 1100 \r\nL 3047 1100 \r\nL 3047 0 \r\nL 2419 0 \r\nL 2419 1100 \r\nL 313 1100 \r\nL 313 1709 \r\nL 2253 4666 \r\nz\r\n\" id=\"DejaVuSans-34\" transform=\"scale(0.015625)\"/>\r\n       </defs>\r\n       <use xlink:href=\"#DejaVuSans-34\"/>\r\n      </g>\r\n     </g>\r\n    </g>\r\n   </g>\r\n   <g id=\"matplotlib.axis_2\">\r\n    <g id=\"ytick_1\">\r\n     <g id=\"line2d_6\">\r\n      <defs>\r\n       <path d=\"M 0 0 \r\nL -3.5 0 \r\n\" id=\"m7e396491a9\" style=\"stroke:#000000;stroke-width:0.8;\"/>\r\n      </defs>\r\n      <g>\r\n       <use style=\"stroke:#000000;stroke-width:0.8;\" x=\"23.878125\" xlink:href=\"#m7e396491a9\" y=\"32.743219\"/>\r\n      </g>\r\n     </g>\r\n     <g id=\"text_6\">\r\n      <!-- 0 -->\r\n      <g transform=\"translate(14.798438 35.924469)rotate(-90)scale(0.1 -0.1)\">\r\n       <use xlink:href=\"#DejaVuSans-30\"/>\r\n      </g>\r\n     </g>\r\n    </g>\r\n    <g id=\"ytick_2\">\r\n     <g id=\"line2d_7\">\r\n      <g>\r\n       <use style=\"stroke:#000000;stroke-width:0.8;\" x=\"23.878125\" xlink:href=\"#m7e396491a9\" y=\"76.231219\"/>\r\n      </g>\r\n     </g>\r\n     <g id=\"text_7\">\r\n      <!-- 1 -->\r\n      <g transform=\"translate(14.798438 79.412469)rotate(-90)scale(0.1 -0.1)\">\r\n       <use xlink:href=\"#DejaVuSans-31\"/>\r\n      </g>\r\n     </g>\r\n    </g>\r\n    <g id=\"ytick_3\">\r\n     <g id=\"line2d_8\">\r\n      <g>\r\n       <use style=\"stroke:#000000;stroke-width:0.8;\" x=\"23.878125\" xlink:href=\"#m7e396491a9\" y=\"119.719219\"/>\r\n      </g>\r\n     </g>\r\n     <g id=\"text_8\">\r\n      <!-- 2 -->\r\n      <g transform=\"translate(14.798438 122.900469)rotate(-90)scale(0.1 -0.1)\">\r\n       <use xlink:href=\"#DejaVuSans-32\"/>\r\n      </g>\r\n     </g>\r\n    </g>\r\n    <g id=\"ytick_4\">\r\n     <g id=\"line2d_9\">\r\n      <g>\r\n       <use style=\"stroke:#000000;stroke-width:0.8;\" x=\"23.878125\" xlink:href=\"#m7e396491a9\" y=\"163.207219\"/>\r\n      </g>\r\n     </g>\r\n     <g id=\"text_9\">\r\n      <!-- 3 -->\r\n      <g transform=\"translate(14.798438 166.388469)rotate(-90)scale(0.1 -0.1)\">\r\n       <use xlink:href=\"#DejaVuSans-33\"/>\r\n      </g>\r\n     </g>\r\n    </g>\r\n    <g id=\"ytick_5\">\r\n     <g id=\"line2d_10\">\r\n      <g>\r\n       <use style=\"stroke:#000000;stroke-width:0.8;\" x=\"23.878125\" xlink:href=\"#m7e396491a9\" y=\"206.695219\"/>\r\n      </g>\r\n     </g>\r\n     <g id=\"text_10\">\r\n      <!-- 4 -->\r\n      <g transform=\"translate(14.798438 209.876469)rotate(-90)scale(0.1 -0.1)\">\r\n       <use xlink:href=\"#DejaVuSans-34\"/>\r\n      </g>\r\n     </g>\r\n    </g>\r\n   </g>\r\n  </g>\r\n  <g id=\"axes_2\">\r\n   <g id=\"patch_3\">\r\n    <path d=\"M 308.458125 228.439219 \r\nL 319.330125 228.439219 \r\nL 319.330125 10.999219 \r\nL 308.458125 10.999219 \r\nz\r\n\" style=\"fill:#ffffff;\"/>\r\n   </g>\r\n   <g id=\"patch_4\">\r\n    <path clip-path=\"url(#p2ace06507c)\" d=\"M 308.458125 228.439219 \r\nL 308.458125 227.589844 \r\nL 308.458125 11.848594 \r\nL 308.458125 10.999219 \r\nL 319.330125 10.999219 \r\nL 319.330125 11.848594 \r\nL 319.330125 227.589844 \r\nL 319.330125 228.439219 \r\nL 319.330125 228.439219 \r\nz\r\n\" style=\"fill:#ffffff;stroke:#ffffff;stroke-linejoin:miter;stroke-width:0.01;\"/>\r\n   </g>\r\n   <image height=\"217\" id=\"image3b9008d99d\" transform=\"scale(1 -1)translate(0 -217)\" width=\"11\" x=\"308\" xlink:href=\"data:image/png;base64,\r\niVBORw0KGgoAAAANSUhEUgAAAAsAAADZCAYAAAD2WsoCAAABLklEQVR4nO2YQQ4DMQgDEzb/6tP6iH1vQq/tjTlYMtXu2UJgsCE7X+87R/Fbc84qdqwrADhIZJQGAoOUx5oDsREgMknDhDphuwnPJtQhNuCIytpdhtI0ggw/06AHdazdZJ5hzmWskrrwcP6Q+YbOzE3mGWkwJlJ3PzM32YMdCzTxOhfnb+h1z6L/Bl8eGjShzmTRQ5MpY7EV9Hvi6RaQcluVsT2dH5r5nw+/cp5BGrF3HTyy/FONgs+pg5NFJmAZG5mgQJYzYoMUmCwNUqCugySN3KgpsgJNlIKGXzaiQqXo1N1QKalzfp1STKzAw8wT8awDmygFRT66PShTiq4pHs7PBOvh/MxyPZxfuQc9biSTK9dEKSZXrolSPLxOqJSO6n7uup/IHk88E3Wr7roPdHz1vHFguj8AAAAASUVORK5CYII=\" y=\"-11\"/>\r\n   <g id=\"matplotlib.axis_3\"/>\r\n   <g id=\"matplotlib.axis_4\">\r\n    <g id=\"ytick_6\">\r\n     <g id=\"line2d_11\">\r\n      <defs>\r\n       <path d=\"M 0 0 \r\nL 3.5 0 \r\n\" id=\"m1e647c7833\" style=\"stroke:#000000;stroke-width:0.8;\"/>\r\n      </defs>\r\n      <g>\r\n       <use style=\"stroke:#000000;stroke-width:0.8;\" x=\"319.330125\" xlink:href=\"#m1e647c7833\" y=\"184.971753\"/>\r\n      </g>\r\n     </g>\r\n     <g id=\"text_11\">\r\n      <!-- 0.2 -->\r\n      <g transform=\"translate(326.330125 188.770972)scale(0.1 -0.1)\">\r\n       <defs>\r\n        <path d=\"M 684 794 \r\nL 1344 794 \r\nL 1344 0 \r\nL 684 0 \r\nL 684 794 \r\nz\r\n\" id=\"DejaVuSans-2e\" transform=\"scale(0.015625)\"/>\r\n       </defs>\r\n       <use xlink:href=\"#DejaVuSans-30\"/>\r\n       <use x=\"63.623047\" xlink:href=\"#DejaVuSans-2e\"/>\r\n       <use x=\"95.410156\" xlink:href=\"#DejaVuSans-32\"/>\r\n      </g>\r\n     </g>\r\n    </g>\r\n    <g id=\"ytick_7\">\r\n     <g id=\"line2d_12\">\r\n      <g>\r\n       <use style=\"stroke:#000000;stroke-width:0.8;\" x=\"319.330125\" xlink:href=\"#m1e647c7833\" y=\"141.47862\"/>\r\n      </g>\r\n     </g>\r\n     <g id=\"text_12\">\r\n      <!-- 0.4 -->\r\n      <g transform=\"translate(326.330125 145.277838)scale(0.1 -0.1)\">\r\n       <use xlink:href=\"#DejaVuSans-30\"/>\r\n       <use x=\"63.623047\" xlink:href=\"#DejaVuSans-2e\"/>\r\n       <use x=\"95.410156\" xlink:href=\"#DejaVuSans-34\"/>\r\n      </g>\r\n     </g>\r\n    </g>\r\n    <g id=\"ytick_8\">\r\n     <g id=\"line2d_13\">\r\n      <g>\r\n       <use style=\"stroke:#000000;stroke-width:0.8;\" x=\"319.330125\" xlink:href=\"#m1e647c7833\" y=\"97.985486\"/>\r\n      </g>\r\n     </g>\r\n     <g id=\"text_13\">\r\n      <!-- 0.6 -->\r\n      <g transform=\"translate(326.330125 101.784705)scale(0.1 -0.1)\">\r\n       <defs>\r\n        <path d=\"M 2113 2584 \r\nQ 1688 2584 1439 2293 \r\nQ 1191 2003 1191 1497 \r\nQ 1191 994 1439 701 \r\nQ 1688 409 2113 409 \r\nQ 2538 409 2786 701 \r\nQ 3034 994 3034 1497 \r\nQ 3034 2003 2786 2293 \r\nQ 2538 2584 2113 2584 \r\nz\r\nM 3366 4563 \r\nL 3366 3988 \r\nQ 3128 4100 2886 4159 \r\nQ 2644 4219 2406 4219 \r\nQ 1781 4219 1451 3797 \r\nQ 1122 3375 1075 2522 \r\nQ 1259 2794 1537 2939 \r\nQ 1816 3084 2150 3084 \r\nQ 2853 3084 3261 2657 \r\nQ 3669 2231 3669 1497 \r\nQ 3669 778 3244 343 \r\nQ 2819 -91 2113 -91 \r\nQ 1303 -91 875 529 \r\nQ 447 1150 447 2328 \r\nQ 447 3434 972 4092 \r\nQ 1497 4750 2381 4750 \r\nQ 2619 4750 2861 4703 \r\nQ 3103 4656 3366 4563 \r\nz\r\n\" id=\"DejaVuSans-36\" transform=\"scale(0.015625)\"/>\r\n       </defs>\r\n       <use xlink:href=\"#DejaVuSans-30\"/>\r\n       <use x=\"63.623047\" xlink:href=\"#DejaVuSans-2e\"/>\r\n       <use x=\"95.410156\" xlink:href=\"#DejaVuSans-36\"/>\r\n      </g>\r\n     </g>\r\n    </g>\r\n    <g id=\"ytick_9\">\r\n     <g id=\"line2d_14\">\r\n      <g>\r\n       <use style=\"stroke:#000000;stroke-width:0.8;\" x=\"319.330125\" xlink:href=\"#m1e647c7833\" y=\"54.492352\"/>\r\n      </g>\r\n     </g>\r\n     <g id=\"text_14\">\r\n      <!-- 0.8 -->\r\n      <g transform=\"translate(326.330125 58.291571)scale(0.1 -0.1)\">\r\n       <defs>\r\n        <path d=\"M 2034 2216 \r\nQ 1584 2216 1326 1975 \r\nQ 1069 1734 1069 1313 \r\nQ 1069 891 1326 650 \r\nQ 1584 409 2034 409 \r\nQ 2484 409 2743 651 \r\nQ 3003 894 3003 1313 \r\nQ 3003 1734 2745 1975 \r\nQ 2488 2216 2034 2216 \r\nz\r\nM 1403 2484 \r\nQ 997 2584 770 2862 \r\nQ 544 3141 544 3541 \r\nQ 544 4100 942 4425 \r\nQ 1341 4750 2034 4750 \r\nQ 2731 4750 3128 4425 \r\nQ 3525 4100 3525 3541 \r\nQ 3525 3141 3298 2862 \r\nQ 3072 2584 2669 2484 \r\nQ 3125 2378 3379 2068 \r\nQ 3634 1759 3634 1313 \r\nQ 3634 634 3220 271 \r\nQ 2806 -91 2034 -91 \r\nQ 1263 -91 848 271 \r\nQ 434 634 434 1313 \r\nQ 434 1759 690 2068 \r\nQ 947 2378 1403 2484 \r\nz\r\nM 1172 3481 \r\nQ 1172 3119 1398 2916 \r\nQ 1625 2713 2034 2713 \r\nQ 2441 2713 2670 2916 \r\nQ 2900 3119 2900 3481 \r\nQ 2900 3844 2670 4047 \r\nQ 2441 4250 2034 4250 \r\nQ 1625 4250 1398 4047 \r\nQ 1172 3844 1172 3481 \r\nz\r\n\" id=\"DejaVuSans-38\" transform=\"scale(0.015625)\"/>\r\n       </defs>\r\n       <use xlink:href=\"#DejaVuSans-30\"/>\r\n       <use x=\"63.623047\" xlink:href=\"#DejaVuSans-2e\"/>\r\n       <use x=\"95.410156\" xlink:href=\"#DejaVuSans-38\"/>\r\n      </g>\r\n     </g>\r\n    </g>\r\n    <g id=\"ytick_10\">\r\n     <g id=\"line2d_15\">\r\n      <g>\r\n       <use style=\"stroke:#000000;stroke-width:0.8;\" x=\"319.330125\" xlink:href=\"#m1e647c7833\" y=\"10.999219\"/>\r\n      </g>\r\n     </g>\r\n     <g id=\"text_15\">\r\n      <!-- 1.0 -->\r\n      <g transform=\"translate(326.330125 14.798437)scale(0.1 -0.1)\">\r\n       <use xlink:href=\"#DejaVuSans-31\"/>\r\n       <use x=\"63.623047\" xlink:href=\"#DejaVuSans-2e\"/>\r\n       <use x=\"95.410156\" xlink:href=\"#DejaVuSans-30\"/>\r\n      </g>\r\n     </g>\r\n    </g>\r\n   </g>\r\n   <g id=\"LineCollection_1\"/>\r\n   <g id=\"patch_5\">\r\n    <path d=\"M 308.458125 228.439219 \r\nL 308.458125 227.589844 \r\nL 308.458125 11.848594 \r\nL 308.458125 10.999219 \r\nL 319.330125 10.999219 \r\nL 319.330125 11.848594 \r\nL 319.330125 227.589844 \r\nL 319.330125 228.439219 \r\nz\r\n\" style=\"fill:none;\"/>\r\n   </g>\r\n  </g>\r\n </g>\r\n <defs>\r\n  <clipPath id=\"p1815b33e48\">\r\n   <rect height=\"217.44\" width=\"267.84\" x=\"23.878125\" y=\"10.999219\"/>\r\n  </clipPath>\r\n  <clipPath id=\"p2ace06507c\">\r\n   <rect height=\"217.44\" width=\"10.872\" x=\"308.458125\" y=\"10.999219\"/>\r\n  </clipPath>\r\n </defs>\r\n</svg>\r\n",
      "text/plain": [
       "<Figure size 432x288 with 2 Axes>"
      ]
     },
     "metadata": {
      "needs_background": "light"
     }
    }
   ],
   "metadata": {}
  },
  {
   "cell_type": "markdown",
   "source": [
    "* Cosine kernel"
   ],
   "metadata": {}
  },
  {
   "cell_type": "code",
   "execution_count": 59,
   "source": [
    "c = pairwise_kernels(small_data, metric='cosine')\r\n",
    "sns.heatmap(c, cmap=cmap)"
   ],
   "outputs": [
    {
     "output_type": "execute_result",
     "data": {
      "text/plain": [
       "<AxesSubplot:>"
      ]
     },
     "metadata": {},
     "execution_count": 59
    },
    {
     "output_type": "display_data",
     "data": {
      "image/png": "[encoded data removed]",
      "image/svg+xml": "<?xml version=\"1.0\" encoding=\"utf-8\" standalone=\"no\"?>\r\n<!DOCTYPE svg PUBLIC \"-//W3C//DTD SVG 1.1//EN\"\r\n  \"http://www.w3.org/Graphics/SVG/1.1/DTD/svg11.dtd\">\r\n<svg height=\"252.317344pt\" version=\"1.1\" viewBox=\"0 0 357.812937 252.317344\" width=\"357.812937pt\" xmlns=\"http://www.w3.org/2000/svg\" xmlns:xlink=\"http://www.w3.org/1999/xlink\">\r\n <metadata>\r\n  <rdf:RDF xmlns:cc=\"http://creativecommons.org/ns#\" xmlns:dc=\"http://purl.org/dc/elements/1.1/\" xmlns:rdf=\"http://www.w3.org/1999/02/22-rdf-syntax-ns#\">\r\n   <cc:Work>\r\n    <dc:type rdf:resource=\"http://purl.org/dc/dcmitype/StillImage\"/>\r\n    <dc:date>2021-09-08T08:14:01.600060</dc:date>\r\n    <dc:format>image/svg+xml</dc:format>\r\n    <dc:creator>\r\n     <cc:Agent>\r\n      <dc:title>Matplotlib v3.4.3, https://matplotlib.org/</dc:title>\r\n     </cc:Agent>\r\n    </dc:creator>\r\n   </cc:Work>\r\n  </rdf:RDF>\r\n </metadata>\r\n <defs>\r\n  <style type=\"text/css\">*{stroke-linecap:butt;stroke-linejoin:round;}</style>\r\n </defs>\r\n <g id=\"figure_1\">\r\n  <g id=\"patch_1\">\r\n   <path d=\"M -0 252.317344 \r\nL 357.812937 252.317344 \r\nL 357.812937 0 \r\nL -0 0 \r\nz\r\n\" style=\"fill:none;\"/>\r\n  </g>\r\n  <g id=\"axes_1\">\r\n   <g id=\"patch_2\">\r\n    <path d=\"M 23.878125 228.439219 \r\nL 291.718125 228.439219 \r\nL 291.718125 10.999219 \r\nL 23.878125 10.999219 \r\nz\r\n\" style=\"fill:#ffffff;\"/>\r\n   </g>\r\n   <g id=\"QuadMesh_1\">\r\n    <path clip-path=\"url(#pd57a80435d)\" d=\"M 23.878125 10.999219 \r\nL 77.446125 10.999219 \r\nL 77.446125 54.487219 \r\nL 23.878125 54.487219 \r\nL 23.878125 10.999219 \r\n\" style=\"fill:#da3b46;\"/>\r\n    <path clip-path=\"url(#pd57a80435d)\" d=\"M 77.446125 10.999219 \r\nL 131.014125 10.999219 \r\nL 131.014125 54.487219 \r\nL 77.446125 54.487219 \r\nL 77.446125 10.999219 \r\n\" style=\"fill:#e7ecee;\"/>\r\n    <path clip-path=\"url(#pd57a80435d)\" d=\"M 131.014125 10.999219 \r\nL 184.582125 10.999219 \r\nL 184.582125 54.487219 \r\nL 131.014125 54.487219 \r\nL 131.014125 10.999219 \r\n\" style=\"fill:#f0e3e3;\"/>\r\n    <path clip-path=\"url(#pd57a80435d)\" d=\"M 184.582125 10.999219 \r\nL 238.150125 10.999219 \r\nL 238.150125 54.487219 \r\nL 184.582125 54.487219 \r\nL 184.582125 10.999219 \r\n\" style=\"fill:#74a1b0;\"/>\r\n    <path clip-path=\"url(#pd57a80435d)\" d=\"M 238.150125 10.999219 \r\nL 291.718125 10.999219 \r\nL 291.718125 54.487219 \r\nL 238.150125 54.487219 \r\nL 238.150125 10.999219 \r\n\" style=\"fill:#e38289;\"/>\r\n    <path clip-path=\"url(#pd57a80435d)\" d=\"M 23.878125 54.487219 \r\nL 77.446125 54.487219 \r\nL 77.446125 97.975219 \r\nL 23.878125 97.975219 \r\nL 23.878125 54.487219 \r\n\" style=\"fill:#e7ecee;\"/>\r\n    <path clip-path=\"url(#pd57a80435d)\" d=\"M 77.446125 54.487219 \r\nL 131.014125 54.487219 \r\nL 131.014125 97.975219 \r\nL 77.446125 97.975219 \r\nL 77.446125 54.487219 \r\n\" style=\"fill:#da3b46;\"/>\r\n    <path clip-path=\"url(#pd57a80435d)\" d=\"M 131.014125 54.487219 \r\nL 184.582125 54.487219 \r\nL 184.582125 97.975219 \r\nL 131.014125 97.975219 \r\nL 131.014125 54.487219 \r\n\" style=\"fill:#abc6ce;\"/>\r\n    <path clip-path=\"url(#pd57a80435d)\" d=\"M 184.582125 54.487219 \r\nL 238.150125 54.487219 \r\nL 238.150125 97.975219 \r\nL 184.582125 97.975219 \r\nL 184.582125 54.487219 \r\n\" style=\"fill:#4b879a;\"/>\r\n    <path clip-path=\"url(#pd57a80435d)\" d=\"M 238.150125 54.487219 \r\nL 291.718125 54.487219 \r\nL 291.718125 97.975219 \r\nL 238.150125 97.975219 \r\nL 238.150125 54.487219 \r\n\" style=\"fill:#edccce;\"/>\r\n    <path clip-path=\"url(#pd57a80435d)\" d=\"M 23.878125 97.975219 \r\nL 77.446125 97.975219 \r\nL 77.446125 141.463219 \r\nL 23.878125 141.463219 \r\nL 23.878125 97.975219 \r\n\" style=\"fill:#f0e3e3;\"/>\r\n    <path clip-path=\"url(#pd57a80435d)\" d=\"M 77.446125 97.975219 \r\nL 131.014125 97.975219 \r\nL 131.014125 141.463219 \r\nL 77.446125 141.463219 \r\nL 77.446125 97.975219 \r\n\" style=\"fill:#abc6ce;\"/>\r\n    <path clip-path=\"url(#pd57a80435d)\" d=\"M 131.014125 97.975219 \r\nL 184.582125 97.975219 \r\nL 184.582125 141.463219 \r\nL 131.014125 141.463219 \r\nL 131.014125 97.975219 \r\n\" style=\"fill:#da3b46;\"/>\r\n    <path clip-path=\"url(#pd57a80435d)\" d=\"M 184.582125 97.975219 \r\nL 238.150125 97.975219 \r\nL 238.150125 141.463219 \r\nL 184.582125 141.463219 \r\nL 184.582125 97.975219 \r\n\" style=\"fill:#ebb9bd;\"/>\r\n    <path clip-path=\"url(#pd57a80435d)\" d=\"M 238.150125 97.975219 \r\nL 291.718125 97.975219 \r\nL 291.718125 141.463219 \r\nL 238.150125 141.463219 \r\nL 238.150125 97.975219 \r\n\" style=\"fill:#ebb8bb;\"/>\r\n    <path clip-path=\"url(#pd57a80435d)\" d=\"M 23.878125 141.463219 \r\nL 77.446125 141.463219 \r\nL 77.446125 184.951219 \r\nL 23.878125 184.951219 \r\nL 23.878125 141.463219 \r\n\" style=\"fill:#74a1b0;\"/>\r\n    <path clip-path=\"url(#pd57a80435d)\" d=\"M 77.446125 141.463219 \r\nL 131.014125 141.463219 \r\nL 131.014125 184.951219 \r\nL 77.446125 184.951219 \r\nL 77.446125 141.463219 \r\n\" style=\"fill:#4b879a;\"/>\r\n    <path clip-path=\"url(#pd57a80435d)\" d=\"M 131.014125 141.463219 \r\nL 184.582125 141.463219 \r\nL 184.582125 184.951219 \r\nL 131.014125 184.951219 \r\nL 131.014125 141.463219 \r\n\" style=\"fill:#ebb9bd;\"/>\r\n    <path clip-path=\"url(#pd57a80435d)\" d=\"M 184.582125 141.463219 \r\nL 238.150125 141.463219 \r\nL 238.150125 184.951219 \r\nL 184.582125 184.951219 \r\nL 184.582125 141.463219 \r\n\" style=\"fill:#da3b46;\"/>\r\n    <path clip-path=\"url(#pd57a80435d)\" d=\"M 238.150125 141.463219 \r\nL 291.718125 141.463219 \r\nL 291.718125 184.951219 \r\nL 238.150125 184.951219 \r\nL 238.150125 141.463219 \r\n\" style=\"fill:#3f7f93;\"/>\r\n    <path clip-path=\"url(#pd57a80435d)\" d=\"M 23.878125 184.951219 \r\nL 77.446125 184.951219 \r\nL 77.446125 228.439219 \r\nL 23.878125 228.439219 \r\nL 23.878125 184.951219 \r\n\" style=\"fill:#e38289;\"/>\r\n    <path clip-path=\"url(#pd57a80435d)\" d=\"M 77.446125 184.951219 \r\nL 131.014125 184.951219 \r\nL 131.014125 228.439219 \r\nL 77.446125 228.439219 \r\nL 77.446125 184.951219 \r\n\" style=\"fill:#edccce;\"/>\r\n    <path clip-path=\"url(#pd57a80435d)\" d=\"M 131.014125 184.951219 \r\nL 184.582125 184.951219 \r\nL 184.582125 228.439219 \r\nL 131.014125 228.439219 \r\nL 131.014125 184.951219 \r\n\" style=\"fill:#ebb8bb;\"/>\r\n    <path clip-path=\"url(#pd57a80435d)\" d=\"M 184.582125 184.951219 \r\nL 238.150125 184.951219 \r\nL 238.150125 228.439219 \r\nL 184.582125 228.439219 \r\nL 184.582125 184.951219 \r\n\" style=\"fill:#3f7f93;\"/>\r\n    <path clip-path=\"url(#pd57a80435d)\" d=\"M 238.150125 184.951219 \r\nL 291.718125 184.951219 \r\nL 291.718125 228.439219 \r\nL 238.150125 228.439219 \r\nL 238.150125 184.951219 \r\n\" style=\"fill:#da3b46;\"/>\r\n   </g>\r\n   <g id=\"matplotlib.axis_1\">\r\n    <g id=\"xtick_1\">\r\n     <g id=\"line2d_1\">\r\n      <defs>\r\n       <path d=\"M 0 0 \r\nL 0 3.5 \r\n\" id=\"mfc10b4de2a\" style=\"stroke:#000000;stroke-width:0.8;\"/>\r\n      </defs>\r\n      <g>\r\n       <use style=\"stroke:#000000;stroke-width:0.8;\" x=\"50.662125\" xlink:href=\"#mfc10b4de2a\" y=\"228.439219\"/>\r\n      </g>\r\n     </g>\r\n     <g id=\"text_1\">\r\n      <!-- 0 -->\r\n      <g transform=\"translate(47.480875 243.037656)scale(0.1 -0.1)\">\r\n       <defs>\r\n        <path d=\"M 2034 4250 \r\nQ 1547 4250 1301 3770 \r\nQ 1056 3291 1056 2328 \r\nQ 1056 1369 1301 889 \r\nQ 1547 409 2034 409 \r\nQ 2525 409 2770 889 \r\nQ 3016 1369 3016 2328 \r\nQ 3016 3291 2770 3770 \r\nQ 2525 4250 2034 4250 \r\nz\r\nM 2034 4750 \r\nQ 2819 4750 3233 4129 \r\nQ 3647 3509 3647 2328 \r\nQ 3647 1150 3233 529 \r\nQ 2819 -91 2034 -91 \r\nQ 1250 -91 836 529 \r\nQ 422 1150 422 2328 \r\nQ 422 3509 836 4129 \r\nQ 1250 4750 2034 4750 \r\nz\r\n\" id=\"DejaVuSans-30\" transform=\"scale(0.015625)\"/>\r\n       </defs>\r\n       <use xlink:href=\"#DejaVuSans-30\"/>\r\n      </g>\r\n     </g>\r\n    </g>\r\n    <g id=\"xtick_2\">\r\n     <g id=\"line2d_2\">\r\n      <g>\r\n       <use style=\"stroke:#000000;stroke-width:0.8;\" x=\"104.230125\" xlink:href=\"#mfc10b4de2a\" y=\"228.439219\"/>\r\n      </g>\r\n     </g>\r\n     <g id=\"text_2\">\r\n      <!-- 1 -->\r\n      <g transform=\"translate(101.048875 243.037656)scale(0.1 -0.1)\">\r\n       <defs>\r\n        <path d=\"M 794 531 \r\nL 1825 531 \r\nL 1825 4091 \r\nL 703 3866 \r\nL 703 4441 \r\nL 1819 4666 \r\nL 2450 4666 \r\nL 2450 531 \r\nL 3481 531 \r\nL 3481 0 \r\nL 794 0 \r\nL 794 531 \r\nz\r\n\" id=\"DejaVuSans-31\" transform=\"scale(0.015625)\"/>\r\n       </defs>\r\n       <use xlink:href=\"#DejaVuSans-31\"/>\r\n      </g>\r\n     </g>\r\n    </g>\r\n    <g id=\"xtick_3\">\r\n     <g id=\"line2d_3\">\r\n      <g>\r\n       <use style=\"stroke:#000000;stroke-width:0.8;\" x=\"157.798125\" xlink:href=\"#mfc10b4de2a\" y=\"228.439219\"/>\r\n      </g>\r\n     </g>\r\n     <g id=\"text_3\">\r\n      <!-- 2 -->\r\n      <g transform=\"translate(154.616875 243.037656)scale(0.1 -0.1)\">\r\n       <defs>\r\n        <path d=\"M 1228 531 \r\nL 3431 531 \r\nL 3431 0 \r\nL 469 0 \r\nL 469 531 \r\nQ 828 903 1448 1529 \r\nQ 2069 2156 2228 2338 \r\nQ 2531 2678 2651 2914 \r\nQ 2772 3150 2772 3378 \r\nQ 2772 3750 2511 3984 \r\nQ 2250 4219 1831 4219 \r\nQ 1534 4219 1204 4116 \r\nQ 875 4013 500 3803 \r\nL 500 4441 \r\nQ 881 4594 1212 4672 \r\nQ 1544 4750 1819 4750 \r\nQ 2544 4750 2975 4387 \r\nQ 3406 4025 3406 3419 \r\nQ 3406 3131 3298 2873 \r\nQ 3191 2616 2906 2266 \r\nQ 2828 2175 2409 1742 \r\nQ 1991 1309 1228 531 \r\nz\r\n\" id=\"DejaVuSans-32\" transform=\"scale(0.015625)\"/>\r\n       </defs>\r\n       <use xlink:href=\"#DejaVuSans-32\"/>\r\n      </g>\r\n     </g>\r\n    </g>\r\n    <g id=\"xtick_4\">\r\n     <g id=\"line2d_4\">\r\n      <g>\r\n       <use style=\"stroke:#000000;stroke-width:0.8;\" x=\"211.366125\" xlink:href=\"#mfc10b4de2a\" y=\"228.439219\"/>\r\n      </g>\r\n     </g>\r\n     <g id=\"text_4\">\r\n      <!-- 3 -->\r\n      <g transform=\"translate(208.184875 243.037656)scale(0.1 -0.1)\">\r\n       <defs>\r\n        <path d=\"M 2597 2516 \r\nQ 3050 2419 3304 2112 \r\nQ 3559 1806 3559 1356 \r\nQ 3559 666 3084 287 \r\nQ 2609 -91 1734 -91 \r\nQ 1441 -91 1130 -33 \r\nQ 819 25 488 141 \r\nL 488 750 \r\nQ 750 597 1062 519 \r\nQ 1375 441 1716 441 \r\nQ 2309 441 2620 675 \r\nQ 2931 909 2931 1356 \r\nQ 2931 1769 2642 2001 \r\nQ 2353 2234 1838 2234 \r\nL 1294 2234 \r\nL 1294 2753 \r\nL 1863 2753 \r\nQ 2328 2753 2575 2939 \r\nQ 2822 3125 2822 3475 \r\nQ 2822 3834 2567 4026 \r\nQ 2313 4219 1838 4219 \r\nQ 1578 4219 1281 4162 \r\nQ 984 4106 628 3988 \r\nL 628 4550 \r\nQ 988 4650 1302 4700 \r\nQ 1616 4750 1894 4750 \r\nQ 2613 4750 3031 4423 \r\nQ 3450 4097 3450 3541 \r\nQ 3450 3153 3228 2886 \r\nQ 3006 2619 2597 2516 \r\nz\r\n\" id=\"DejaVuSans-33\" transform=\"scale(0.015625)\"/>\r\n       </defs>\r\n       <use xlink:href=\"#DejaVuSans-33\"/>\r\n      </g>\r\n     </g>\r\n    </g>\r\n    <g id=\"xtick_5\">\r\n     <g id=\"line2d_5\">\r\n      <g>\r\n       <use style=\"stroke:#000000;stroke-width:0.8;\" x=\"264.934125\" xlink:href=\"#mfc10b4de2a\" y=\"228.439219\"/>\r\n      </g>\r\n     </g>\r\n     <g id=\"text_5\">\r\n      <!-- 4 -->\r\n      <g transform=\"translate(261.752875 243.037656)scale(0.1 -0.1)\">\r\n       <defs>\r\n        <path d=\"M 2419 4116 \r\nL 825 1625 \r\nL 2419 1625 \r\nL 2419 4116 \r\nz\r\nM 2253 4666 \r\nL 3047 4666 \r\nL 3047 1625 \r\nL 3713 1625 \r\nL 3713 1100 \r\nL 3047 1100 \r\nL 3047 0 \r\nL 2419 0 \r\nL 2419 1100 \r\nL 313 1100 \r\nL 313 1709 \r\nL 2253 4666 \r\nz\r\n\" id=\"DejaVuSans-34\" transform=\"scale(0.015625)\"/>\r\n       </defs>\r\n       <use xlink:href=\"#DejaVuSans-34\"/>\r\n      </g>\r\n     </g>\r\n    </g>\r\n   </g>\r\n   <g id=\"matplotlib.axis_2\">\r\n    <g id=\"ytick_1\">\r\n     <g id=\"line2d_6\">\r\n      <defs>\r\n       <path d=\"M 0 0 \r\nL -3.5 0 \r\n\" id=\"mf90646411f\" style=\"stroke:#000000;stroke-width:0.8;\"/>\r\n      </defs>\r\n      <g>\r\n       <use style=\"stroke:#000000;stroke-width:0.8;\" x=\"23.878125\" xlink:href=\"#mf90646411f\" y=\"32.743219\"/>\r\n      </g>\r\n     </g>\r\n     <g id=\"text_6\">\r\n      <!-- 0 -->\r\n      <g transform=\"translate(14.798438 35.924469)rotate(-90)scale(0.1 -0.1)\">\r\n       <use xlink:href=\"#DejaVuSans-30\"/>\r\n      </g>\r\n     </g>\r\n    </g>\r\n    <g id=\"ytick_2\">\r\n     <g id=\"line2d_7\">\r\n      <g>\r\n       <use style=\"stroke:#000000;stroke-width:0.8;\" x=\"23.878125\" xlink:href=\"#mf90646411f\" y=\"76.231219\"/>\r\n      </g>\r\n     </g>\r\n     <g id=\"text_7\">\r\n      <!-- 1 -->\r\n      <g transform=\"translate(14.798438 79.412469)rotate(-90)scale(0.1 -0.1)\">\r\n       <use xlink:href=\"#DejaVuSans-31\"/>\r\n      </g>\r\n     </g>\r\n    </g>\r\n    <g id=\"ytick_3\">\r\n     <g id=\"line2d_8\">\r\n      <g>\r\n       <use style=\"stroke:#000000;stroke-width:0.8;\" x=\"23.878125\" xlink:href=\"#mf90646411f\" y=\"119.719219\"/>\r\n      </g>\r\n     </g>\r\n     <g id=\"text_8\">\r\n      <!-- 2 -->\r\n      <g transform=\"translate(14.798438 122.900469)rotate(-90)scale(0.1 -0.1)\">\r\n       <use xlink:href=\"#DejaVuSans-32\"/>\r\n      </g>\r\n     </g>\r\n    </g>\r\n    <g id=\"ytick_4\">\r\n     <g id=\"line2d_9\">\r\n      <g>\r\n       <use style=\"stroke:#000000;stroke-width:0.8;\" x=\"23.878125\" xlink:href=\"#mf90646411f\" y=\"163.207219\"/>\r\n      </g>\r\n     </g>\r\n     <g id=\"text_9\">\r\n      <!-- 3 -->\r\n      <g transform=\"translate(14.798438 166.388469)rotate(-90)scale(0.1 -0.1)\">\r\n       <use xlink:href=\"#DejaVuSans-33\"/>\r\n      </g>\r\n     </g>\r\n    </g>\r\n    <g id=\"ytick_5\">\r\n     <g id=\"line2d_10\">\r\n      <g>\r\n       <use style=\"stroke:#000000;stroke-width:0.8;\" x=\"23.878125\" xlink:href=\"#mf90646411f\" y=\"206.695219\"/>\r\n      </g>\r\n     </g>\r\n     <g id=\"text_10\">\r\n      <!-- 4 -->\r\n      <g transform=\"translate(14.798438 209.876469)rotate(-90)scale(0.1 -0.1)\">\r\n       <use xlink:href=\"#DejaVuSans-34\"/>\r\n      </g>\r\n     </g>\r\n    </g>\r\n   </g>\r\n  </g>\r\n  <g id=\"axes_2\">\r\n   <g id=\"patch_3\">\r\n    <path d=\"M 308.458125 228.439219 \r\nL 319.330125 228.439219 \r\nL 319.330125 10.999219 \r\nL 308.458125 10.999219 \r\nz\r\n\" style=\"fill:#ffffff;\"/>\r\n   </g>\r\n   <g id=\"patch_4\">\r\n    <path clip-path=\"url(#pf1d172086b)\" d=\"M 308.458125 228.439219 \r\nL 308.458125 227.589844 \r\nL 308.458125 11.848594 \r\nL 308.458125 10.999219 \r\nL 319.330125 10.999219 \r\nL 319.330125 11.848594 \r\nL 319.330125 227.589844 \r\nL 319.330125 228.439219 \r\nL 319.330125 228.439219 \r\nz\r\n\" style=\"fill:#ffffff;stroke:#ffffff;stroke-linejoin:miter;stroke-width:0.01;\"/>\r\n   </g>\r\n   <image height=\"217\" id=\"imageed5c1313ca\" transform=\"scale(1 -1)translate(0 -217)\" width=\"11\" x=\"308\" xlink:href=\"data:image/png;base64,\r\niVBORw0KGgoAAAANSUhEUgAAAAsAAADZCAYAAAD2WsoCAAABLklEQVR4nO2YQQ4DMQgDEzb/6tP6iH1vQq/tjTlYMtXu2UJgsCE7X+87R/Fbc84qdqwrADhIZJQGAoOUx5oDsREgMknDhDphuwnPJtQhNuCIytpdhtI0ggw/06AHdazdZJ5hzmWskrrwcP6Q+YbOzE3mGWkwJlJ3PzM32YMdCzTxOhfnb+h1z6L/Bl8eGjShzmTRQ5MpY7EV9Hvi6RaQcluVsT2dH5r5nw+/cp5BGrF3HTyy/FONgs+pg5NFJmAZG5mgQJYzYoMUmCwNUqCugySN3KgpsgJNlIKGXzaiQqXo1N1QKalzfp1STKzAw8wT8awDmygFRT66PShTiq4pHs7PBOvh/MxyPZxfuQc9biSTK9dEKSZXrolSPLxOqJSO6n7uup/IHk88E3Wr7roPdHz1vHFguj8AAAAASUVORK5CYII=\" y=\"-11\"/>\r\n   <g id=\"matplotlib.axis_3\"/>\r\n   <g id=\"matplotlib.axis_4\">\r\n    <g id=\"ytick_6\">\r\n     <g id=\"line2d_11\">\r\n      <defs>\r\n       <path d=\"M 0 0 \r\nL 3.5 0 \r\n\" id=\"md5349bddc5\" style=\"stroke:#000000;stroke-width:0.8;\"/>\r\n      </defs>\r\n      <g>\r\n       <use style=\"stroke:#000000;stroke-width:0.8;\" x=\"319.330125\" xlink:href=\"#md5349bddc5\" y=\"205.946621\"/>\r\n      </g>\r\n     </g>\r\n     <g id=\"text_11\">\r\n      <!-- −0.4 -->\r\n      <g transform=\"translate(326.330125 209.74584)scale(0.1 -0.1)\">\r\n       <defs>\r\n        <path d=\"M 678 2272 \r\nL 4684 2272 \r\nL 4684 1741 \r\nL 678 1741 \r\nL 678 2272 \r\nz\r\n\" id=\"DejaVuSans-2212\" transform=\"scale(0.015625)\"/>\r\n        <path d=\"M 684 794 \r\nL 1344 794 \r\nL 1344 0 \r\nL 684 0 \r\nL 684 794 \r\nz\r\n\" id=\"DejaVuSans-2e\" transform=\"scale(0.015625)\"/>\r\n       </defs>\r\n       <use xlink:href=\"#DejaVuSans-2212\"/>\r\n       <use x=\"83.789062\" xlink:href=\"#DejaVuSans-30\"/>\r\n       <use x=\"147.412109\" xlink:href=\"#DejaVuSans-2e\"/>\r\n       <use x=\"179.199219\" xlink:href=\"#DejaVuSans-34\"/>\r\n      </g>\r\n     </g>\r\n    </g>\r\n    <g id=\"ytick_7\">\r\n     <g id=\"line2d_12\">\r\n      <g>\r\n       <use style=\"stroke:#000000;stroke-width:0.8;\" x=\"319.330125\" xlink:href=\"#md5349bddc5\" y=\"178.096992\"/>\r\n      </g>\r\n     </g>\r\n     <g id=\"text_12\">\r\n      <!-- −0.2 -->\r\n      <g transform=\"translate(326.330125 181.896211)scale(0.1 -0.1)\">\r\n       <use xlink:href=\"#DejaVuSans-2212\"/>\r\n       <use x=\"83.789062\" xlink:href=\"#DejaVuSans-30\"/>\r\n       <use x=\"147.412109\" xlink:href=\"#DejaVuSans-2e\"/>\r\n       <use x=\"179.199219\" xlink:href=\"#DejaVuSans-32\"/>\r\n      </g>\r\n     </g>\r\n    </g>\r\n    <g id=\"ytick_8\">\r\n     <g id=\"line2d_13\">\r\n      <g>\r\n       <use style=\"stroke:#000000;stroke-width:0.8;\" x=\"319.330125\" xlink:href=\"#md5349bddc5\" y=\"150.247363\"/>\r\n      </g>\r\n     </g>\r\n     <g id=\"text_13\">\r\n      <!-- 0.0 -->\r\n      <g transform=\"translate(326.330125 154.046582)scale(0.1 -0.1)\">\r\n       <use xlink:href=\"#DejaVuSans-30\"/>\r\n       <use x=\"63.623047\" xlink:href=\"#DejaVuSans-2e\"/>\r\n       <use x=\"95.410156\" xlink:href=\"#DejaVuSans-30\"/>\r\n      </g>\r\n     </g>\r\n    </g>\r\n    <g id=\"ytick_9\">\r\n     <g id=\"line2d_14\">\r\n      <g>\r\n       <use style=\"stroke:#000000;stroke-width:0.8;\" x=\"319.330125\" xlink:href=\"#md5349bddc5\" y=\"122.397734\"/>\r\n      </g>\r\n     </g>\r\n     <g id=\"text_14\">\r\n      <!-- 0.2 -->\r\n      <g transform=\"translate(326.330125 126.196953)scale(0.1 -0.1)\">\r\n       <use xlink:href=\"#DejaVuSans-30\"/>\r\n       <use x=\"63.623047\" xlink:href=\"#DejaVuSans-2e\"/>\r\n       <use x=\"95.410156\" xlink:href=\"#DejaVuSans-32\"/>\r\n      </g>\r\n     </g>\r\n    </g>\r\n    <g id=\"ytick_10\">\r\n     <g id=\"line2d_15\">\r\n      <g>\r\n       <use style=\"stroke:#000000;stroke-width:0.8;\" x=\"319.330125\" xlink:href=\"#md5349bddc5\" y=\"94.548105\"/>\r\n      </g>\r\n     </g>\r\n     <g id=\"text_15\">\r\n      <!-- 0.4 -->\r\n      <g transform=\"translate(326.330125 98.347324)scale(0.1 -0.1)\">\r\n       <use xlink:href=\"#DejaVuSans-30\"/>\r\n       <use x=\"63.623047\" xlink:href=\"#DejaVuSans-2e\"/>\r\n       <use x=\"95.410156\" xlink:href=\"#DejaVuSans-34\"/>\r\n      </g>\r\n     </g>\r\n    </g>\r\n    <g id=\"ytick_11\">\r\n     <g id=\"line2d_16\">\r\n      <g>\r\n       <use style=\"stroke:#000000;stroke-width:0.8;\" x=\"319.330125\" xlink:href=\"#md5349bddc5\" y=\"66.698476\"/>\r\n      </g>\r\n     </g>\r\n     <g id=\"text_16\">\r\n      <!-- 0.6 -->\r\n      <g transform=\"translate(326.330125 70.497695)scale(0.1 -0.1)\">\r\n       <defs>\r\n        <path d=\"M 2113 2584 \r\nQ 1688 2584 1439 2293 \r\nQ 1191 2003 1191 1497 \r\nQ 1191 994 1439 701 \r\nQ 1688 409 2113 409 \r\nQ 2538 409 2786 701 \r\nQ 3034 994 3034 1497 \r\nQ 3034 2003 2786 2293 \r\nQ 2538 2584 2113 2584 \r\nz\r\nM 3366 4563 \r\nL 3366 3988 \r\nQ 3128 4100 2886 4159 \r\nQ 2644 4219 2406 4219 \r\nQ 1781 4219 1451 3797 \r\nQ 1122 3375 1075 2522 \r\nQ 1259 2794 1537 2939 \r\nQ 1816 3084 2150 3084 \r\nQ 2853 3084 3261 2657 \r\nQ 3669 2231 3669 1497 \r\nQ 3669 778 3244 343 \r\nQ 2819 -91 2113 -91 \r\nQ 1303 -91 875 529 \r\nQ 447 1150 447 2328 \r\nQ 447 3434 972 4092 \r\nQ 1497 4750 2381 4750 \r\nQ 2619 4750 2861 4703 \r\nQ 3103 4656 3366 4563 \r\nz\r\n\" id=\"DejaVuSans-36\" transform=\"scale(0.015625)\"/>\r\n       </defs>\r\n       <use xlink:href=\"#DejaVuSans-30\"/>\r\n       <use x=\"63.623047\" xlink:href=\"#DejaVuSans-2e\"/>\r\n       <use x=\"95.410156\" xlink:href=\"#DejaVuSans-36\"/>\r\n      </g>\r\n     </g>\r\n    </g>\r\n    <g id=\"ytick_12\">\r\n     <g id=\"line2d_17\">\r\n      <g>\r\n       <use style=\"stroke:#000000;stroke-width:0.8;\" x=\"319.330125\" xlink:href=\"#md5349bddc5\" y=\"38.848848\"/>\r\n      </g>\r\n     </g>\r\n     <g id=\"text_17\">\r\n      <!-- 0.8 -->\r\n      <g transform=\"translate(326.330125 42.648066)scale(0.1 -0.1)\">\r\n       <defs>\r\n        <path d=\"M 2034 2216 \r\nQ 1584 2216 1326 1975 \r\nQ 1069 1734 1069 1313 \r\nQ 1069 891 1326 650 \r\nQ 1584 409 2034 409 \r\nQ 2484 409 2743 651 \r\nQ 3003 894 3003 1313 \r\nQ 3003 1734 2745 1975 \r\nQ 2488 2216 2034 2216 \r\nz\r\nM 1403 2484 \r\nQ 997 2584 770 2862 \r\nQ 544 3141 544 3541 \r\nQ 544 4100 942 4425 \r\nQ 1341 4750 2034 4750 \r\nQ 2731 4750 3128 4425 \r\nQ 3525 4100 3525 3541 \r\nQ 3525 3141 3298 2862 \r\nQ 3072 2584 2669 2484 \r\nQ 3125 2378 3379 2068 \r\nQ 3634 1759 3634 1313 \r\nQ 3634 634 3220 271 \r\nQ 2806 -91 2034 -91 \r\nQ 1263 -91 848 271 \r\nQ 434 634 434 1313 \r\nQ 434 1759 690 2068 \r\nQ 947 2378 1403 2484 \r\nz\r\nM 1172 3481 \r\nQ 1172 3119 1398 2916 \r\nQ 1625 2713 2034 2713 \r\nQ 2441 2713 2670 2916 \r\nQ 2900 3119 2900 3481 \r\nQ 2900 3844 2670 4047 \r\nQ 2441 4250 2034 4250 \r\nQ 1625 4250 1398 4047 \r\nQ 1172 3844 1172 3481 \r\nz\r\n\" id=\"DejaVuSans-38\" transform=\"scale(0.015625)\"/>\r\n       </defs>\r\n       <use xlink:href=\"#DejaVuSans-30\"/>\r\n       <use x=\"63.623047\" xlink:href=\"#DejaVuSans-2e\"/>\r\n       <use x=\"95.410156\" xlink:href=\"#DejaVuSans-38\"/>\r\n      </g>\r\n     </g>\r\n    </g>\r\n    <g id=\"ytick_13\">\r\n     <g id=\"line2d_18\">\r\n      <g>\r\n       <use style=\"stroke:#000000;stroke-width:0.8;\" x=\"319.330125\" xlink:href=\"#md5349bddc5\" y=\"10.999219\"/>\r\n      </g>\r\n     </g>\r\n     <g id=\"text_18\">\r\n      <!-- 1.0 -->\r\n      <g transform=\"translate(326.330125 14.798437)scale(0.1 -0.1)\">\r\n       <use xlink:href=\"#DejaVuSans-31\"/>\r\n       <use x=\"63.623047\" xlink:href=\"#DejaVuSans-2e\"/>\r\n       <use x=\"95.410156\" xlink:href=\"#DejaVuSans-30\"/>\r\n      </g>\r\n     </g>\r\n    </g>\r\n   </g>\r\n   <g id=\"LineCollection_1\"/>\r\n   <g id=\"patch_5\">\r\n    <path d=\"M 308.458125 228.439219 \r\nL 308.458125 227.589844 \r\nL 308.458125 11.848594 \r\nL 308.458125 10.999219 \r\nL 319.330125 10.999219 \r\nL 319.330125 11.848594 \r\nL 319.330125 227.589844 \r\nL 319.330125 228.439219 \r\nz\r\n\" style=\"fill:none;\"/>\r\n   </g>\r\n  </g>\r\n </g>\r\n <defs>\r\n  <clipPath id=\"pd57a80435d\">\r\n   <rect height=\"217.44\" width=\"267.84\" x=\"23.878125\" y=\"10.999219\"/>\r\n  </clipPath>\r\n  <clipPath id=\"pf1d172086b\">\r\n   <rect height=\"217.44\" width=\"10.872\" x=\"308.458125\" y=\"10.999219\"/>\r\n  </clipPath>\r\n </defs>\r\n</svg>\r\n",
      "text/plain": [
       "<Figure size 432x288 with 2 Axes>"
      ]
     },
     "metadata": {
      "needs_background": "light"
     }
    }
   ],
   "metadata": {}
  },
  {
   "cell_type": "markdown",
   "source": [
    "The Gaussian and the Laplace charts look fairly similar in considering the distance between each point. The Cosine is completely different with its results. The first two seem to align with the first two matrixes in part 3 and Cosine seems to align with Minkowski."
   ],
   "metadata": {}
  },
  {
   "cell_type": "markdown",
   "source": [
    "## Part Two: K-NN and Kernel Smoothing Methods\r\n",
    "\r\n",
    "### 1. Create a data matrix for the explanatory variables and vector for the response. Print the first few rows of the feature matrix. (5 pts)"
   ],
   "metadata": {}
  },
  {
   "cell_type": "code",
   "execution_count": 60,
   "source": [
    "cols = ['Lot_Area', 'Year_Built', 'Gr_Liv_Area', 'Total_Bsmt_SF', 'Full_Bath']\r\n",
    "X = ames[cols].copy().values\r\n",
    "\r\n",
    "y = ames['Sale_Price'].values\r\n",
    "\r\n",
    "print('Feature Matrix')\r\n",
    "print(X[:4,])\r\n",
    "\r\n",
    "print('Sale Price')\r\n",
    "print(y[:4,])"
   ],
   "outputs": [
    {
     "output_type": "stream",
     "name": "stdout",
     "text": [
      "Feature Matrix\n",
      "[[31770  1960  1656  1080     1]\n",
      " [11622  1961   896   882     1]\n",
      " [14267  1958  1329  1329     1]\n",
      " [11160  1968  2110  2110     2]]\n",
      "Sale Price\n",
      "[215000 105000 172000 244000]\n"
     ]
    }
   ],
   "metadata": {}
  },
  {
   "cell_type": "markdown",
   "source": [
    "### 2. Randomly split the data into 70% training and 30% test data. Print the dimensions of each matrix/vector. (5 pts)"
   ],
   "metadata": {}
  },
  {
   "cell_type": "code",
   "execution_count": 61,
   "source": [
    "X_train, X_test, y_train, y_test = train_test_split(X, y, test_size=.3)\r\n",
    "\r\n",
    "print('Training Feature Set has', X_train.shape[0], 'rows and', X_train.shape[1], 'columns.')\r\n",
    "print('Testing Feature Set has', X_test.shape[0], 'rows and', X_test.shape[1], 'columns.')\r\n",
    "\r\n",
    "print('Training Response variable has', y_train.shape[0], 'rows and', '1 column.')\r\n",
    "print('Testing Response variable has', y_test.shape[0], 'rows and', '1 column.')"
   ],
   "outputs": [
    {
     "output_type": "stream",
     "name": "stdout",
     "text": [
      "Training Feature Set has 2051 rows and 5 columns.\n",
      "Testing Feature Set has 879 rows and 5 columns.\n",
      "Training Response variable has 2051 rows and 1 column.\n",
      "Testing Response variable has 879 rows and 1 column.\n"
     ]
    }
   ],
   "metadata": {}
  },
  {
   "cell_type": "markdown",
   "source": [
    "### 3. Standardize the training data and apply the same transformation to the test data. Print the first few rows of the training feature matrix. (10 pts)"
   ],
   "metadata": {}
  },
  {
   "cell_type": "code",
   "execution_count": 62,
   "source": [
    "scaler = StandardScaler()\r\n",
    "scaler.fit(X_train)\r\n",
    "X_train = scaler.fit_transform(X_train)\r\n",
    "\r\n",
    "scaler = StandardScaler()\r\n",
    "scaler.fit(X_test)\r\n",
    "X_test = scaler.fit_transform(X_test)\r\n",
    "\r\n",
    "print('Training Data Set after Standardization')\r\n",
    "print(X_train[:4,])"
   ],
   "outputs": [
    {
     "output_type": "stream",
     "name": "stdout",
     "text": [
      "Training Data Set after Standardization\n",
      "[[-0.97209932  0.04042477 -0.55316242 -0.86053257 -1.03239672]\n",
      " [-0.19444473 -1.86519577 -1.1024331  -1.88243835 -1.03239672]\n",
      " [-0.18728984  1.14367877  0.45772937 -0.45938973  0.78984568]\n",
      " [-0.20687782 -0.29389462 -0.84532767  0.00674273 -1.03239672]]\n"
     ]
    }
   ],
   "metadata": {}
  },
  {
   "cell_type": "markdown",
   "source": [
    "### 4. Fit a K-nearest neighbor regression model on the training data using Euclidean distance. Use 5-fold cross validation to choose the best K in terms of RSME. Report the CV error for each choice of K considered. (20 pts)"
   ],
   "metadata": {}
  },
  {
   "cell_type": "code",
   "execution_count": 79,
   "source": [
    "from sklearn.model_selection import cross_validate, cross_val_score\r\n",
    "from sklearn.model_selection import GridSearchCV\r\n",
    "\r\n",
    "ks = np.arange(3, 30)\r\n",
    "rmse = []\r\n",
    "cverror = []\r\n",
    "score = []\r\n",
    "\r\n",
    "for k in ks:\r\n",
    "    knn = KNeighborsRegressor(n_neighbors=k, p=2)\r\n",
    "    knncv = cross_validate(knn, X=X_train, y=y_train, cv=5, scoring='neg_root_mean_squared_error')\r\n",
    "    rmse.append(knncv['test_score'].mean())\r\n",
    "    cverror.append(cross_val_score(knn,X_test,y_test,cv=5).mean())\r\n",
    "#plt.plot(ks,rmse)\r\n",
    "#plt.xlabel('K Neighbors')\r\n",
    "#plt.ylabel('RMSE')\r\n",
    "print(pd.DataFrame({'K Neighbors':ks, 'CV Error':rmse}))\r\n"
   ],
   "outputs": [
    {
     "output_type": "stream",
     "name": "stdout",
     "text": [
      "    K Neighbors      CV Error\n",
      "0             3 -36340.107730\n",
      "1             4 -35785.409738\n",
      "2             5 -35193.697203\n",
      "3             6 -35240.855028\n",
      "4             7 -35223.791511\n",
      "5             8 -35262.652429\n",
      "6             9 -35066.452207\n",
      "7            10 -35046.229820\n",
      "8            11 -35124.691922\n",
      "9            12 -35439.583148\n",
      "10           13 -35410.140488\n",
      "11           14 -35589.981048\n",
      "12           15 -35709.106415\n",
      "13           16 -35693.244752\n",
      "14           17 -35885.934961\n",
      "15           18 -36012.011300\n",
      "16           19 -36098.661501\n",
      "17           20 -36140.836802\n",
      "18           21 -36217.850956\n",
      "19           22 -36360.538600\n",
      "20           23 -36332.224276\n",
      "21           24 -36437.496835\n",
      "22           25 -36511.862472\n",
      "23           26 -36473.572516\n",
      "24           27 -36668.039875\n",
      "25           28 -36716.959109\n",
      "26           29 -36791.687191\n"
     ]
    }
   ],
   "metadata": {}
  },
  {
   "cell_type": "markdown",
   "source": [
    "### 5. Implement and fit a kernel smoothed regression model using the Laplace kernel. Use 5-fold cross validation to choose the best tuning parameter gamma in terms of RSME. Report the average CV error for each choice of gamma considered. (20 pts)"
   ],
   "metadata": {}
  },
  {
   "cell_type": "code",
   "execution_count": 78,
   "source": [
    "from sklearn.model_selection import GridSearchCV\r\n",
    "\r\n",
    "def laplace(gamma):    \r\n",
    "    def kernel(distance):\r\n",
    "        return np.exp(-gamma * distance)\r\n",
    "    return kernel\r\n",
    "\r\n",
    "gam = np.arange(0.1,10.0,0.4)\r\n",
    "cverror = []\r\n",
    "rmse = []\r\n",
    "\r\n",
    "for g in gam:\r\n",
    "    knn = KNeighborsRegressor(50, weights=laplace(g), metric='minkowski', p=1)\r\n",
    "    knncv = cross_validate(knn, X=X_train, y=y_train, cv=5, scoring='neg_root_mean_squared_error')\r\n",
    "    rmse.append(knncv['test_score'].mean())\r\n",
    "    cverror.append(cross_val_score(knn,X_test,y_test,cv=5).mean())\r\n",
    "\r\n",
    "pd.DataFrame({'Gamma':gam,'CV Error':rmse})"
   ],
   "outputs": [
    {
     "output_type": "execute_result",
     "data": {
      "text/html": [
       "<div>\n",
       "<style scoped>\n",
       "    .dataframe tbody tr th:only-of-type {\n",
       "        vertical-align: middle;\n",
       "    }\n",
       "\n",
       "    .dataframe tbody tr th {\n",
       "        vertical-align: top;\n",
       "    }\n",
       "\n",
       "    .dataframe thead th {\n",
       "        text-align: right;\n",
       "    }\n",
       "</style>\n",
       "<table border=\"1\" class=\"dataframe\">\n",
       "  <thead>\n",
       "    <tr style=\"text-align: right;\">\n",
       "      <th></th>\n",
       "      <th>Gamma</th>\n",
       "      <th>CV Error</th>\n",
       "    </tr>\n",
       "  </thead>\n",
       "  <tbody>\n",
       "    <tr>\n",
       "      <th>0</th>\n",
       "      <td>0.1</td>\n",
       "      <td>-37402.683827</td>\n",
       "    </tr>\n",
       "    <tr>\n",
       "      <th>1</th>\n",
       "      <td>0.5</td>\n",
       "      <td>-35714.884056</td>\n",
       "    </tr>\n",
       "    <tr>\n",
       "      <th>2</th>\n",
       "      <td>0.9</td>\n",
       "      <td>-34448.160673</td>\n",
       "    </tr>\n",
       "    <tr>\n",
       "      <th>3</th>\n",
       "      <td>1.3</td>\n",
       "      <td>-33488.716918</td>\n",
       "    </tr>\n",
       "    <tr>\n",
       "      <th>4</th>\n",
       "      <td>1.7</td>\n",
       "      <td>-32934.381770</td>\n",
       "    </tr>\n",
       "    <tr>\n",
       "      <th>5</th>\n",
       "      <td>2.1</td>\n",
       "      <td>-32685.392116</td>\n",
       "    </tr>\n",
       "    <tr>\n",
       "      <th>6</th>\n",
       "      <td>2.5</td>\n",
       "      <td>-32629.619138</td>\n",
       "    </tr>\n",
       "    <tr>\n",
       "      <th>7</th>\n",
       "      <td>2.9</td>\n",
       "      <td>-32687.480061</td>\n",
       "    </tr>\n",
       "    <tr>\n",
       "      <th>8</th>\n",
       "      <td>3.3</td>\n",
       "      <td>-32809.334868</td>\n",
       "    </tr>\n",
       "    <tr>\n",
       "      <th>9</th>\n",
       "      <td>3.7</td>\n",
       "      <td>-32967.038384</td>\n",
       "    </tr>\n",
       "    <tr>\n",
       "      <th>10</th>\n",
       "      <td>4.1</td>\n",
       "      <td>-33144.876968</td>\n",
       "    </tr>\n",
       "    <tr>\n",
       "      <th>11</th>\n",
       "      <td>4.5</td>\n",
       "      <td>-33333.657165</td>\n",
       "    </tr>\n",
       "    <tr>\n",
       "      <th>12</th>\n",
       "      <td>4.9</td>\n",
       "      <td>-33527.685629</td>\n",
       "    </tr>\n",
       "    <tr>\n",
       "      <th>13</th>\n",
       "      <td>5.3</td>\n",
       "      <td>-33723.285967</td>\n",
       "    </tr>\n",
       "    <tr>\n",
       "      <th>14</th>\n",
       "      <td>5.7</td>\n",
       "      <td>-33918.016845</td>\n",
       "    </tr>\n",
       "    <tr>\n",
       "      <th>15</th>\n",
       "      <td>6.1</td>\n",
       "      <td>-34110.220930</td>\n",
       "    </tr>\n",
       "    <tr>\n",
       "      <th>16</th>\n",
       "      <td>6.5</td>\n",
       "      <td>-34298.752222</td>\n",
       "    </tr>\n",
       "    <tr>\n",
       "      <th>17</th>\n",
       "      <td>6.9</td>\n",
       "      <td>-34482.810799</td>\n",
       "    </tr>\n",
       "    <tr>\n",
       "      <th>18</th>\n",
       "      <td>7.3</td>\n",
       "      <td>-34661.843227</td>\n",
       "    </tr>\n",
       "    <tr>\n",
       "      <th>19</th>\n",
       "      <td>7.7</td>\n",
       "      <td>-34835.481233</td>\n",
       "    </tr>\n",
       "    <tr>\n",
       "      <th>20</th>\n",
       "      <td>8.1</td>\n",
       "      <td>-35003.501411</td>\n",
       "    </tr>\n",
       "    <tr>\n",
       "      <th>21</th>\n",
       "      <td>8.5</td>\n",
       "      <td>-35165.796078</td>\n",
       "    </tr>\n",
       "    <tr>\n",
       "      <th>22</th>\n",
       "      <td>8.9</td>\n",
       "      <td>-35322.350146</td>\n",
       "    </tr>\n",
       "    <tr>\n",
       "      <th>23</th>\n",
       "      <td>9.3</td>\n",
       "      <td>-35473.221610</td>\n",
       "    </tr>\n",
       "    <tr>\n",
       "      <th>24</th>\n",
       "      <td>9.7</td>\n",
       "      <td>-35618.524642</td>\n",
       "    </tr>\n",
       "  </tbody>\n",
       "</table>\n",
       "</div>"
      ],
      "text/plain": [
       "    Gamma      CV Error\n",
       "0     0.1 -37402.683827\n",
       "1     0.5 -35714.884056\n",
       "2     0.9 -34448.160673\n",
       "3     1.3 -33488.716918\n",
       "4     1.7 -32934.381770\n",
       "5     2.1 -32685.392116\n",
       "6     2.5 -32629.619138\n",
       "7     2.9 -32687.480061\n",
       "8     3.3 -32809.334868\n",
       "9     3.7 -32967.038384\n",
       "10    4.1 -33144.876968\n",
       "11    4.5 -33333.657165\n",
       "12    4.9 -33527.685629\n",
       "13    5.3 -33723.285967\n",
       "14    5.7 -33918.016845\n",
       "15    6.1 -34110.220930\n",
       "16    6.5 -34298.752222\n",
       "17    6.9 -34482.810799\n",
       "18    7.3 -34661.843227\n",
       "19    7.7 -34835.481233\n",
       "20    8.1 -35003.501411\n",
       "21    8.5 -35165.796078\n",
       "22    8.9 -35322.350146\n",
       "23    9.3 -35473.221610\n",
       "24    9.7 -35618.524642"
      ]
     },
     "metadata": {},
     "execution_count": 78
    }
   ],
   "metadata": {}
  },
  {
   "cell_type": "markdown",
   "source": [
    "### 6. Use the best K-NN model and the best kernel smoothed model to make predictions on the test data and report the RMSE and mean absolute error (MAE) from each. Which model would you prefer? Consider other constraints beyond prediction error. (5 pts)"
   ],
   "metadata": {}
  },
  {
   "cell_type": "code",
   "execution_count": 82,
   "source": [
    "knn = KNeighborsRegressor(n_neighbors=10, p=2)\r\n",
    "knn.fit(X_train,y_train)\r\n",
    "knn_preds = knn.predict(X_test)\r\n",
    "print('K-NN model accuracy with 10 Neighbors:',knn.score(X_train,y_train))\r\n",
    "print('RMSE:', np.sqrt(mean_squared_error(y_test,knn_preds)))\r\n",
    "print('MAE:',mean_absolute_error(y_test,knn_preds))"
   ],
   "outputs": [
    {
     "output_type": "stream",
     "name": "stdout",
     "text": [
      "K-NN model accuracy with 11 Neighbors: 0.8428275187882502\n",
      "RMSE: 34225.68529066052\n",
      "MAE: 22140.062571103528\n"
     ]
    }
   ],
   "metadata": {}
  },
  {
   "cell_type": "code",
   "execution_count": 83,
   "source": [
    "knn = KNeighborsRegressor(50, weights=laplace(2.5), metric='minkowski', p=1)\r\n",
    "knn.fit(X_train,y_train)\r\n",
    "knn_preds = knn.predict(X_test)\r\n",
    "print('Kernel Smoothing Model with gamma of 2.5:',knn.score(X_train,y_train))\r\n",
    "print('RMSE:', np.sqrt(mean_squared_error(y_test,knn_preds)))\r\n",
    "print('MAE:',mean_absolute_error(y_test,knn_preds))"
   ],
   "outputs": [
    {
     "output_type": "stream",
     "name": "stdout",
     "text": [
      "Kernel Smoothing Model with gamma of 2.5: 0.9257150026709264\n",
      "RMSE: 33059.54784921527\n",
      "MAE: 21523.05763896334\n"
     ]
    }
   ],
   "metadata": {}
  },
  {
   "cell_type": "markdown",
   "source": [
    "Based on accuracy and RMSE and MAE I would chose the Kernel Smoothing model to make predictions about housing prices in Ames. It seems to perform much better on the test data set and will lead to more accurate predictions."
   ],
   "metadata": {}
  }
 ],
 "metadata": {
  "orig_nbformat": 4,
  "language_info": {
   "name": "python",
   "version": "3.9.6",
   "mimetype": "text/x-python",
   "codemirror_mode": {
    "name": "ipython",
    "version": 3
   },
   "pygments_lexer": "ipython3",
   "nbconvert_exporter": "python",
   "file_extension": ".py"
  },
  "kernelspec": {
   "name": "python3",
   "display_name": "Python 3.9.6 64-bit"
  },
  "interpreter": {
   "hash": "b68a8a6b96af4d8fd7fa1f3f8f4e1a7c76b6b97573f1f33bfec87c39108e4348"
  }
 },
 "nbformat": 4,
 "nbformat_minor": 2
}