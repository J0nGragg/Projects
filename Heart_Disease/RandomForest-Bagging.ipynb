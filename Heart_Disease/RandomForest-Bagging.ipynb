{
 "cells": [
  {
   "cell_type": "markdown",
   "source": [
    "# Statistical Learning: Bagging and Random Forest\r\n",
    "\r\n",
    "### Jonathan Gragg"
   ],
   "metadata": {}
  },
  {
   "cell_type": "code",
   "execution_count": 2,
   "source": [
    "import numpy as np\r\n",
    "import pandas as pd\r\n",
    "import matplotlib as mpl\r\n",
    "import matplotlib.pyplot as plt\r\n",
    "import seaborn as sns\r\n",
    "from sklearn.model_selection import train_test_split\r\n",
    "from sklearn.preprocessing import StandardScaler\r\n",
    "from sklearn.linear_model import LinearRegression\r\n",
    "from sklearn.ensemble import RandomForestClassifier, BaggingClassifier, GradientBoostingClassifier\r\n",
    "from sklearn.tree import DecisionTreeClassifier\r\n",
    "from sklearn.metrics import mean_squared_error, mean_absolute_error, confusion_matrix, accuracy_score,\\\r\n",
    "    recall_score, precision_score, roc_curve, roc_auc_score, precision_recall_curve\r\n",
    "from sklearn.model_selection import GridSearchCV\r\n",
    "import warnings\r\n",
    "warnings.filterwarnings(action='ignore')\r\n"
   ],
   "outputs": [],
   "metadata": {}
  },
  {
   "cell_type": "markdown",
   "source": [
    "## 1. Load the the Heart Disease dataset. Print the first few rows."
   ],
   "metadata": {}
  },
  {
   "cell_type": "code",
   "execution_count": 3,
   "source": [
    "heart = pd.read_csv('heart.csv')\r\n",
    "heart.head()"
   ],
   "outputs": [
    {
     "output_type": "execute_result",
     "data": {
      "text/html": [
       "<div>\n",
       "<style scoped>\n",
       "    .dataframe tbody tr th:only-of-type {\n",
       "        vertical-align: middle;\n",
       "    }\n",
       "\n",
       "    .dataframe tbody tr th {\n",
       "        vertical-align: top;\n",
       "    }\n",
       "\n",
       "    .dataframe thead th {\n",
       "        text-align: right;\n",
       "    }\n",
       "</style>\n",
       "<table border=\"1\" class=\"dataframe\">\n",
       "  <thead>\n",
       "    <tr style=\"text-align: right;\">\n",
       "      <th></th>\n",
       "      <th>age</th>\n",
       "      <th>sex</th>\n",
       "      <th>cp</th>\n",
       "      <th>trestbps</th>\n",
       "      <th>chol</th>\n",
       "      <th>fbs</th>\n",
       "      <th>restecg</th>\n",
       "      <th>thalach</th>\n",
       "      <th>exang</th>\n",
       "      <th>oldpeak</th>\n",
       "      <th>slope</th>\n",
       "      <th>ca</th>\n",
       "      <th>thal</th>\n",
       "      <th>hd</th>\n",
       "    </tr>\n",
       "  </thead>\n",
       "  <tbody>\n",
       "    <tr>\n",
       "      <th>0</th>\n",
       "      <td>63</td>\n",
       "      <td>male</td>\n",
       "      <td>typical_angina</td>\n",
       "      <td>145</td>\n",
       "      <td>233</td>\n",
       "      <td>higher_than_120</td>\n",
       "      <td>left_vent_hypertrophy</td>\n",
       "      <td>150</td>\n",
       "      <td>no</td>\n",
       "      <td>2.3</td>\n",
       "      <td>downsloping</td>\n",
       "      <td>0.0</td>\n",
       "      <td>fixed_defect</td>\n",
       "      <td>0</td>\n",
       "    </tr>\n",
       "    <tr>\n",
       "      <th>1</th>\n",
       "      <td>67</td>\n",
       "      <td>male</td>\n",
       "      <td>asymptomatic</td>\n",
       "      <td>160</td>\n",
       "      <td>286</td>\n",
       "      <td>lower_than_120</td>\n",
       "      <td>left_vent_hypertrophy</td>\n",
       "      <td>108</td>\n",
       "      <td>yes</td>\n",
       "      <td>1.5</td>\n",
       "      <td>flat</td>\n",
       "      <td>3.0</td>\n",
       "      <td>normal</td>\n",
       "      <td>1</td>\n",
       "    </tr>\n",
       "    <tr>\n",
       "      <th>2</th>\n",
       "      <td>67</td>\n",
       "      <td>male</td>\n",
       "      <td>asymptomatic</td>\n",
       "      <td>120</td>\n",
       "      <td>229</td>\n",
       "      <td>lower_than_120</td>\n",
       "      <td>left_vent_hypertrophy</td>\n",
       "      <td>129</td>\n",
       "      <td>yes</td>\n",
       "      <td>2.6</td>\n",
       "      <td>flat</td>\n",
       "      <td>2.0</td>\n",
       "      <td>reversable_defect</td>\n",
       "      <td>1</td>\n",
       "    </tr>\n",
       "    <tr>\n",
       "      <th>3</th>\n",
       "      <td>37</td>\n",
       "      <td>male</td>\n",
       "      <td>non_anginal_pain</td>\n",
       "      <td>130</td>\n",
       "      <td>250</td>\n",
       "      <td>lower_than_120</td>\n",
       "      <td>normal</td>\n",
       "      <td>187</td>\n",
       "      <td>no</td>\n",
       "      <td>3.5</td>\n",
       "      <td>downsloping</td>\n",
       "      <td>0.0</td>\n",
       "      <td>normal</td>\n",
       "      <td>0</td>\n",
       "    </tr>\n",
       "    <tr>\n",
       "      <th>4</th>\n",
       "      <td>41</td>\n",
       "      <td>female</td>\n",
       "      <td>atypical_angina</td>\n",
       "      <td>130</td>\n",
       "      <td>204</td>\n",
       "      <td>lower_than_120</td>\n",
       "      <td>left_vent_hypertrophy</td>\n",
       "      <td>172</td>\n",
       "      <td>no</td>\n",
       "      <td>1.4</td>\n",
       "      <td>upsloping</td>\n",
       "      <td>0.0</td>\n",
       "      <td>normal</td>\n",
       "      <td>0</td>\n",
       "    </tr>\n",
       "  </tbody>\n",
       "</table>\n",
       "</div>"
      ],
      "text/plain": [
       "   age     sex                cp  trestbps  chol              fbs  \\\n",
       "0   63    male    typical_angina       145   233  higher_than_120   \n",
       "1   67    male      asymptomatic       160   286   lower_than_120   \n",
       "2   67    male      asymptomatic       120   229   lower_than_120   \n",
       "3   37    male  non_anginal_pain       130   250   lower_than_120   \n",
       "4   41  female   atypical_angina       130   204   lower_than_120   \n",
       "\n",
       "                 restecg  thalach exang  oldpeak        slope   ca  \\\n",
       "0  left_vent_hypertrophy      150    no      2.3  downsloping  0.0   \n",
       "1  left_vent_hypertrophy      108   yes      1.5         flat  3.0   \n",
       "2  left_vent_hypertrophy      129   yes      2.6         flat  2.0   \n",
       "3                 normal      187    no      3.5  downsloping  0.0   \n",
       "4  left_vent_hypertrophy      172    no      1.4    upsloping  0.0   \n",
       "\n",
       "                thal  hd  \n",
       "0       fixed_defect   0  \n",
       "1             normal   1  \n",
       "2  reversable_defect   1  \n",
       "3             normal   0  \n",
       "4             normal   0  "
      ]
     },
     "metadata": {},
     "execution_count": 3
    }
   ],
   "metadata": {}
  },
  {
   "cell_type": "markdown",
   "source": [
    "## 2. Transform the data for modeling.\r\n",
    "* Create a data frame of the following variables: age, trestbps, chol, thalach, sex, slope, cp, and hd.\r\n",
    "* Transform the categorical variables to dummy variables (dropping one of the levels for each variable).\r\n",
    "* Print the first few rows of this new data frame."
   ],
   "metadata": {}
  },
  {
   "cell_type": "code",
   "execution_count": 4,
   "source": [
    "cols = ['age', 'trestbps', 'chol', 'thalach', 'sex', 'slope','cp','hd']\r\n",
    "data = heart[cols].copy()\r\n",
    "data = pd.get_dummies(data, drop_first=True)\r\n",
    "data.head()\r\n"
   ],
   "outputs": [
    {
     "output_type": "execute_result",
     "data": {
      "text/html": [
       "<div>\n",
       "<style scoped>\n",
       "    .dataframe tbody tr th:only-of-type {\n",
       "        vertical-align: middle;\n",
       "    }\n",
       "\n",
       "    .dataframe tbody tr th {\n",
       "        vertical-align: top;\n",
       "    }\n",
       "\n",
       "    .dataframe thead th {\n",
       "        text-align: right;\n",
       "    }\n",
       "</style>\n",
       "<table border=\"1\" class=\"dataframe\">\n",
       "  <thead>\n",
       "    <tr style=\"text-align: right;\">\n",
       "      <th></th>\n",
       "      <th>age</th>\n",
       "      <th>trestbps</th>\n",
       "      <th>chol</th>\n",
       "      <th>thalach</th>\n",
       "      <th>hd</th>\n",
       "      <th>sex_male</th>\n",
       "      <th>slope_flat</th>\n",
       "      <th>slope_upsloping</th>\n",
       "      <th>cp_atypical_angina</th>\n",
       "      <th>cp_non_anginal_pain</th>\n",
       "      <th>cp_typical_angina</th>\n",
       "    </tr>\n",
       "  </thead>\n",
       "  <tbody>\n",
       "    <tr>\n",
       "      <th>0</th>\n",
       "      <td>63</td>\n",
       "      <td>145</td>\n",
       "      <td>233</td>\n",
       "      <td>150</td>\n",
       "      <td>0</td>\n",
       "      <td>1</td>\n",
       "      <td>0</td>\n",
       "      <td>0</td>\n",
       "      <td>0</td>\n",
       "      <td>0</td>\n",
       "      <td>1</td>\n",
       "    </tr>\n",
       "    <tr>\n",
       "      <th>1</th>\n",
       "      <td>67</td>\n",
       "      <td>160</td>\n",
       "      <td>286</td>\n",
       "      <td>108</td>\n",
       "      <td>1</td>\n",
       "      <td>1</td>\n",
       "      <td>1</td>\n",
       "      <td>0</td>\n",
       "      <td>0</td>\n",
       "      <td>0</td>\n",
       "      <td>0</td>\n",
       "    </tr>\n",
       "    <tr>\n",
       "      <th>2</th>\n",
       "      <td>67</td>\n",
       "      <td>120</td>\n",
       "      <td>229</td>\n",
       "      <td>129</td>\n",
       "      <td>1</td>\n",
       "      <td>1</td>\n",
       "      <td>1</td>\n",
       "      <td>0</td>\n",
       "      <td>0</td>\n",
       "      <td>0</td>\n",
       "      <td>0</td>\n",
       "    </tr>\n",
       "    <tr>\n",
       "      <th>3</th>\n",
       "      <td>37</td>\n",
       "      <td>130</td>\n",
       "      <td>250</td>\n",
       "      <td>187</td>\n",
       "      <td>0</td>\n",
       "      <td>1</td>\n",
       "      <td>0</td>\n",
       "      <td>0</td>\n",
       "      <td>0</td>\n",
       "      <td>1</td>\n",
       "      <td>0</td>\n",
       "    </tr>\n",
       "    <tr>\n",
       "      <th>4</th>\n",
       "      <td>41</td>\n",
       "      <td>130</td>\n",
       "      <td>204</td>\n",
       "      <td>172</td>\n",
       "      <td>0</td>\n",
       "      <td>0</td>\n",
       "      <td>0</td>\n",
       "      <td>1</td>\n",
       "      <td>1</td>\n",
       "      <td>0</td>\n",
       "      <td>0</td>\n",
       "    </tr>\n",
       "  </tbody>\n",
       "</table>\n",
       "</div>"
      ],
      "text/plain": [
       "   age  trestbps  chol  thalach  hd  sex_male  slope_flat  slope_upsloping  \\\n",
       "0   63       145   233      150   0         1           0                0   \n",
       "1   67       160   286      108   1         1           1                0   \n",
       "2   67       120   229      129   1         1           1                0   \n",
       "3   37       130   250      187   0         1           0                0   \n",
       "4   41       130   204      172   0         0           0                1   \n",
       "\n",
       "   cp_atypical_angina  cp_non_anginal_pain  cp_typical_angina  \n",
       "0                   0                    0                  1  \n",
       "1                   0                    0                  0  \n",
       "2                   0                    0                  0  \n",
       "3                   0                    1                  0  \n",
       "4                   1                    0                  0  "
      ]
     },
     "metadata": {},
     "execution_count": 4
    }
   ],
   "metadata": {}
  },
  {
   "cell_type": "markdown",
   "source": [
    "## 3. Create training testing sets.\r\n",
    "* Create a feature matrix and response (target) vector for heart disease, and store these as numpy arrays.\r\n",
    "* Split the data into training and test sets using a 70%/30% split, stratifying on heart disease.\r\n",
    "* Print the dimensions of the feature matrices and response vectors for both sets."
   ],
   "metadata": {}
  },
  {
   "cell_type": "code",
   "execution_count": 5,
   "source": [
    "y = heart.hd.values.reshape(-1,1)\r\n",
    "X = data.drop('hd', axis=1).values\r\n",
    "\r\n",
    "X_train, X_test, y_train, y_test = train_test_split(X, y, test_size=.3, stratify=y, random_state=1)\r\n",
    "\r\n",
    "num_columns = [0,1,2,3]\r\n",
    "scaler = StandardScaler(with_mean=0,with_std=1)\r\n",
    "scaler.fit(X_train[:,num_columns])\r\n",
    "X_train[:, num_columns] = scaler.transform(X_train[:,num_columns])\r\n",
    "\r\n",
    "scaler = StandardScaler(with_mean=0,with_std=1)\r\n",
    "scaler.fit(X_test[:,num_columns])\r\n",
    "X_test[:, num_columns] = scaler.transform(X_test[:,num_columns])\r\n",
    "\r\n",
    "print('X_train deminsions:',X_train.shape)\r\n",
    "print('X_test deminsions:',X_test.shape)\r\n",
    "print('y_train deminsions:',y_train.shape)\r\n",
    "print('y_test deminsions:',y_test.shape)"
   ],
   "outputs": [
    {
     "output_type": "stream",
     "name": "stdout",
     "text": [
      "X_train deminsions: (212, 10)\n",
      "X_test deminsions: (91, 10)\n",
      "y_train deminsions: (212, 1)\n",
      "y_test deminsions: (91, 1)\n"
     ]
    }
   ],
   "metadata": {}
  },
  {
   "cell_type": "markdown",
   "source": [
    "## 4. Fit the following models to the training set. For each model, calculate and display precision, recall, and the AUC ROC for the training and test sets.\r\n",
    "\r\n",
    "### Decision tree with max_depth = None."
   ],
   "metadata": {}
  },
  {
   "cell_type": "code",
   "execution_count": 6,
   "source": [
    "dt = DecisionTreeClassifier()\r\n",
    "\r\n",
    "dt.fit(X_train,y_train)\r\n",
    "\r\n",
    "preds_0 = dt.predict(X_train)\r\n",
    "probs_0 = dt.predict_proba(X_train)[:, 1]\r\n",
    "\r\n",
    "preds_1 = dt.predict(X_test)\r\n",
    "probs_1 = dt.predict_proba(X_test)[:, 1]\r\n",
    "\r\n",
    "print('TRAIN')\r\n",
    "print('Precision: ', precision_score(y_train, preds_0).round(3))\r\n",
    "print('Recall: ', recall_score(y_train, preds_0).round(3))\r\n",
    "print('AUC ROC: ', roc_auc_score(y_train,probs_0).round(3))\r\n",
    "\r\n",
    "print('TEST')\r\n",
    "print('Precision: ', precision_score(y_test, preds_1).round(3))\r\n",
    "print('Recall: ', recall_score(y_test, preds_1).round(3))\r\n",
    "print('AUC ROC: ', roc_auc_score(y_test,probs_1).round(3))"
   ],
   "outputs": [
    {
     "output_type": "stream",
     "name": "stdout",
     "text": [
      "TRAIN\n",
      "Precision:  1.0\n",
      "Recall:  0.948\n",
      "AUC ROC:  0.999\n",
      "TEST\n",
      "Precision:  0.6\n",
      "Recall:  0.643\n",
      "AUC ROC:  0.653\n"
     ]
    }
   ],
   "metadata": {}
  },
  {
   "cell_type": "markdown",
   "source": [
    "### Random forests with max_depth = 1 and 100 trees (number of estimators)."
   ],
   "metadata": {}
  },
  {
   "cell_type": "code",
   "execution_count": 7,
   "source": [
    "rf = RandomForestClassifier(n_estimators=100,max_depth=1)\r\n",
    "\r\n",
    "rf.fit(X_train,y_train)\r\n",
    "\r\n",
    "preds_0 = rf.predict(X_train)\r\n",
    "probs_0 = rf.predict_proba(X_train)[:, 1]\r\n",
    "\r\n",
    "preds_1 = rf.predict(X_test)\r\n",
    "probs_1 = rf.predict_proba(X_test)[:, 1]\r\n",
    "\r\n",
    "print('TRAIN')\r\n",
    "print('Precision: ', precision_score(y_train, preds_0).round(3))\r\n",
    "print('Recall: ', recall_score(y_train, preds_0).round(3))\r\n",
    "print('AUC ROC: ', roc_auc_score(y_train,probs_0).round(3))\r\n",
    "\r\n",
    "print('TEST')\r\n",
    "print('Precision: ', precision_score(y_test, preds_1).round(3))\r\n",
    "print('Recall: ', recall_score(y_test, preds_1).round(3))\r\n",
    "print('AUC ROC: ', roc_auc_score(y_test,probs_1).round(3))"
   ],
   "outputs": [
    {
     "output_type": "stream",
     "name": "stdout",
     "text": [
      "TRAIN\n",
      "Precision:  0.691\n",
      "Recall:  0.691\n",
      "AUC ROC:  0.818\n",
      "TEST\n",
      "Precision:  0.683\n",
      "Recall:  0.667\n",
      "AUC ROC:  0.8\n"
     ]
    }
   ],
   "metadata": {}
  },
  {
   "cell_type": "markdown",
   "source": [
    "### Gradient Boosted Decision Tree with a learning rate of 5 and 100 trees stumps (number of estimators)."
   ],
   "metadata": {}
  },
  {
   "cell_type": "code",
   "execution_count": 8,
   "source": [
    "gb = GradientBoostingClassifier(learning_rate=5,n_estimators=100)\r\n",
    "\r\n",
    "gb.fit(X_train,y_train)\r\n",
    "\r\n",
    "preds_0 = gb.predict(X_train)\r\n",
    "probs_0 = gb.predict_proba(X_train)[:, 1]\r\n",
    "\r\n",
    "preds_1 = gb.predict(X_test)\r\n",
    "probs_1 = gb.predict_proba(X_test)[:, 1]\r\n",
    "\r\n",
    "print('TRAIN')\r\n",
    "print('Precision: ', precision_score(y_train, preds_0).round(3))\r\n",
    "print('Recall: ', recall_score(y_train, preds_0).round(3))\r\n",
    "print('AUC ROC: ', roc_auc_score(y_train,probs_0).round(3))\r\n",
    "\r\n",
    "print('TEST')\r\n",
    "print('Precision: ', precision_score(y_test, preds_1).round(3))\r\n",
    "print('Recall: ', recall_score(y_test, preds_1).round(3))\r\n",
    "print('AUC ROC: ', roc_auc_score(y_test,probs_1).round(3))"
   ],
   "outputs": [
    {
     "output_type": "stream",
     "name": "stdout",
     "text": [
      "TRAIN\n",
      "Precision:  0.467\n",
      "Recall:  0.938\n",
      "AUC ROC:  0.517\n",
      "TEST\n",
      "Precision:  0.562\n",
      "Recall:  0.857\n",
      "AUC ROC:  0.643\n"
     ]
    }
   ],
   "metadata": {}
  },
  {
   "cell_type": "markdown",
   "source": [
    "### Bagging with Decisions trees with max_features = .7."
   ],
   "metadata": {}
  },
  {
   "cell_type": "code",
   "execution_count": 9,
   "source": [
    "bag = BaggingClassifier(max_features=0.7)\r\n",
    "\r\n",
    "bag.fit(X_train,y_train)\r\n",
    "\r\n",
    "preds_0 = bag.predict(X_train)\r\n",
    "probs_0 = bag.predict_proba(X_train)[:, 1]\r\n",
    "\r\n",
    "preds_1 = bag.predict(X_test)\r\n",
    "probs_1 = bag.predict_proba(X_test)[:, 1]\r\n",
    "\r\n",
    "print('TRAIN')\r\n",
    "print('Precision: ', precision_score(y_train, preds_0).round(3))\r\n",
    "print('Recall: ', recall_score(y_train, preds_0).round(3))\r\n",
    "print('AUC ROC: ', roc_auc_score(y_train,probs_0).round(3))\r\n",
    "\r\n",
    "print('TEST')\r\n",
    "print('Precision: ', precision_score(y_test, preds_1).round(3))\r\n",
    "print('Recall: ', recall_score(y_test, preds_1).round(3))\r\n",
    "print('AUC ROC: ', roc_auc_score(y_test,probs_1).round(3))"
   ],
   "outputs": [
    {
     "output_type": "stream",
     "name": "stdout",
     "text": [
      "TRAIN\n",
      "Precision:  0.929\n",
      "Recall:  0.948\n",
      "AUC ROC:  0.992\n",
      "TEST\n",
      "Precision:  0.705\n",
      "Recall:  0.738\n",
      "AUC ROC:  0.824\n"
     ]
    }
   ],
   "metadata": {}
  },
  {
   "cell_type": "markdown",
   "source": [
    "## 5. Plot the feature importance of the fitted Random Forest model from (4)."
   ],
   "metadata": {}
  },
  {
   "cell_type": "code",
   "execution_count": 10,
   "source": [
    "feature_names = data.drop('hd', axis=1).columns\r\n",
    "plt.barh(feature_names, rf.feature_importances_)"
   ],
   "outputs": [
    {
     "output_type": "execute_result",
     "data": {
      "text/plain": [
       "<BarContainer object of 10 artists>"
      ]
     },
     "metadata": {},
     "execution_count": 10
    },
    {
     "output_type": "display_data",
     "data": {
      "image/png": "[encoded data removed]",
      "text/plain": [
       "<Figure size 432x288 with 1 Axes>"
      ]
     },
     "metadata": {
      "needs_background": "light"
     }
    }
   ],
   "metadata": {}
  },
  {
   "cell_type": "markdown",
   "source": [
    "## 6. Fit the random forest model again, but this time optimize the model by choosing better tuning parameters. Try a grid of possible values for max_depth and number of trees. You may use any metric to select the best model. Calculate and print precision, recall and AUC ROC for the training and testing sets.\r\n",
    "\r\n",
    "* Hint: You can use either a validations set, cross-validation, or OOB error to select the best tuning parameters. "
   ],
   "metadata": {}
  },
  {
   "cell_type": "code",
   "execution_count": 18,
   "source": [
    "rf2 = RandomForestClassifier()\r\n",
    "trees = [10,50,100,150,200]\r\n",
    "depths = [2,3,4,5,6,7,8,9]\r\n",
    "rf_params = {'n_estimators':trees, 'max_depth':depths}\r\n",
    "gs = GridSearchCV(rf2, param_grid=rf_params, scoring='roc_auc')\r\n",
    "gs.fit(X_train, y_train)\r\n",
    "\r\n",
    "preds_0 = gs.predict(X_train)\r\n",
    "probs_0 = gs.predict_proba(X_train)[:, 1]\r\n",
    "\r\n",
    "preds_1 = gs.predict(X_test)\r\n",
    "probs_1 = gs.predict_proba(X_test)[:, 1]\r\n",
    "\r\n",
    "print('TRAIN')\r\n",
    "print('Precision: ', precision_score(y_train, preds_0).round(3))\r\n",
    "print('Recall: ', recall_score(y_train, preds_0).round(3))\r\n",
    "print('AUC ROC: ', roc_auc_score(y_train,probs_0).round(3))\r\n",
    "\r\n",
    "print('TEST')\r\n",
    "print('Precision: ', precision_score(y_test, preds_1).round(3))\r\n",
    "print('Recall: ', recall_score(y_test, preds_1).round(3))\r\n",
    "print('AUC ROC: ', roc_auc_score(y_test,probs_1).round(3))\r\n",
    "\r\n"
   ],
   "outputs": [
    {
     "output_type": "stream",
     "name": "stdout",
     "text": [
      "TRAIN\n",
      "Precision:  0.875\n",
      "Recall:  0.938\n",
      "AUC ROC:  0.97\n",
      "TEST\n",
      "Precision:  0.723\n",
      "Recall:  0.81\n",
      "AUC ROC:  0.846\n"
     ]
    }
   ],
   "metadata": {}
  },
  {
   "cell_type": "markdown",
   "source": [
    "## 7. Plot the feature importance of the fitted Random Forest model from (6)."
   ],
   "metadata": {}
  },
  {
   "cell_type": "code",
   "execution_count": 19,
   "source": [
    "print(gs.best_params_)\r\n",
    "plt.barh(feature_names, gs.best_estimator_.feature_importances_)"
   ],
   "outputs": [
    {
     "output_type": "stream",
     "name": "stdout",
     "text": [
      "{'max_depth': 6, 'n_estimators': 150}\n"
     ]
    },
    {
     "output_type": "execute_result",
     "data": {
      "text/plain": [
       "<BarContainer object of 10 artists>"
      ]
     },
     "metadata": {},
     "execution_count": 19
    },
    {
     "output_type": "display_data",
     "data": {
      "image/png": "[encoded data removed]",
      "text/plain": [
       "<Figure size 432x288 with 1 Axes>"
      ]
     },
     "metadata": {
      "needs_background": "light"
     }
    }
   ],
   "metadata": {}
  },
  {
   "cell_type": "markdown",
   "source": [
    "## Summary\r\n",
    "\r\n",
    "I use the GridSearchCV to cross validate each model based off the ROC AUC. I wanted to get the model that gave me the maximum area under the curve. "
   ],
   "metadata": {}
  },
  {
   "cell_type": "markdown",
   "source": [
    "\r\n",
    "\r\n",
    "The decision tree was excelent for the data it was trained on, but peformed poorly on the test data showing that the decision tree is far more likely to be overfit to the training data than the other three methods. The gradient boosting model performed poorly for precision and auc, it was far more prone to label something as positive as opposed to the other models. Bagging performed well but the crossfold validation for Random forest performed the best on the test training set. Because this is a classification problem Random Forest is by far the superior model to chose."
   ],
   "metadata": {}
  }
 ],
 "metadata": {
  "orig_nbformat": 4,
  "language_info": {
   "name": "python",
   "version": "3.9.6",
   "mimetype": "text/x-python",
   "codemirror_mode": {
    "name": "ipython",
    "version": 3
   },
   "pygments_lexer": "ipython3",
   "nbconvert_exporter": "python",
   "file_extension": ".py"
  },
  "kernelspec": {
   "name": "python3",
   "display_name": "Python 3.9.6 64-bit"
  },
  "interpreter": {
   "hash": "b68a8a6b96af4d8fd7fa1f3f8f4e1a7c76b6b97573f1f33bfec87c39108e4348"
  }
 },
 "nbformat": 4,
 "nbformat_minor": 2
}